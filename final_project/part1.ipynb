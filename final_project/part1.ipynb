{
 "cells": [
  {
   "cell_type": "code",
   "execution_count": 1,
   "outputs": [],
   "source": [
    "import numpy as np\n",
    "import matplotlib.pyplot as plt\n",
    "import pandas as pd\n",
    "from bandit import Bandits_three, Bandits_final"
   ],
   "metadata": {
    "collapsed": false,
    "ExecuteTime": {
     "end_time": "2024-04-09T22:27:22.565330Z",
     "start_time": "2024-04-09T22:27:22.174115Z"
    }
   },
   "id": "9eb1aa16254df7fa"
  },
  {
   "cell_type": "code",
   "execution_count": 2,
   "outputs": [],
   "source": [
    "np.random.seed(123)"
   ],
   "metadata": {
    "collapsed": false,
    "ExecuteTime": {
     "end_time": "2024-04-09T22:27:22.569288Z",
     "start_time": "2024-04-09T22:27:22.565535Z"
    }
   },
   "id": "658b36df26ba815a"
  },
  {
   "cell_type": "code",
   "execution_count": 3,
   "outputs": [],
   "source": [
    "def get_optimal_mean_reward(mab):\n",
    "    optimal_action = mab.get_optimal_action()\n",
    "    return mab.means[optimal_action]"
   ],
   "metadata": {
    "collapsed": false,
    "ExecuteTime": {
     "end_time": "2024-04-09T22:27:22.573292Z",
     "start_time": "2024-04-09T22:27:22.568876Z"
    }
   },
   "id": "f222d11b084bc4d8"
  },
  {
   "cell_type": "code",
   "execution_count": 4,
   "outputs": [],
   "source": [
    "def decaying_epsilon_greedy(mab, episodes=10000, epsilon_start=1.0, epsilon_decay=0.999, epsilon_min=0.01):\n",
    "    k = mab.k\n",
    "    Q = np.zeros(k)  # estimated values\n",
    "    N = np.zeros(k)  # number of times each action was taken\n",
    "    rewards = []\n",
    "    regrets = [0]\n",
    "\n",
    "    epsilon = epsilon_start\n",
    "\n",
    "    optimal_mean_reward = get_optimal_mean_reward(mab)\n",
    "\n",
    "    for episode in range(episodes):\n",
    "        if np.random.rand() < epsilon:\n",
    "            action = np.random.randint(0, k)  # exploration\n",
    "        else:\n",
    "            action = np.argmax(Q)  # exploitation\n",
    "\n",
    "        _, reward, _, _, _ = mab.step(action)\n",
    "        regret = optimal_mean_reward - reward\n",
    "\n",
    "        N[action] += 1\n",
    "        Q[action] += (reward - Q[action]) / N[action]  # Update estimate\n",
    "        rewards.append(reward)\n",
    "        regrets.append(regrets[-1] + regret)\n",
    "\n",
    "        epsilon = max(epsilon_min, epsilon_decay * epsilon)\n",
    "\n",
    "        # print(f\"{epsilon:.3f} {reward:.3f}\")\n",
    "\n",
    "    return rewards, regrets"
   ],
   "metadata": {
    "collapsed": false,
    "ExecuteTime": {
     "end_time": "2024-04-09T22:27:22.577403Z",
     "start_time": "2024-04-09T22:27:22.574497Z"
    }
   },
   "id": "a2883dc4913e256e"
  },
  {
   "cell_type": "code",
   "execution_count": 5,
   "outputs": [],
   "source": [
    "b1 = Bandits_three()\n",
    "b1_rewards, b1_regrets = decaying_epsilon_greedy(b1)"
   ],
   "metadata": {
    "collapsed": false,
    "ExecuteTime": {
     "end_time": "2024-04-09T22:27:22.607353Z",
     "start_time": "2024-04-09T22:27:22.580175Z"
    }
   },
   "id": "b6e97f367e8562e6"
  },
  {
   "cell_type": "code",
   "execution_count": 6,
   "outputs": [
    {
     "data": {
      "text/plain": "<Figure size 640x480 with 1 Axes>",
      "image/png": "[encoded data removed]"
     },
     "metadata": {},
     "output_type": "display_data"
    }
   ],
   "source": [
    "plt.plot(b1_regrets)\n",
    "plt.show()"
   ],
   "metadata": {
    "collapsed": false,
    "ExecuteTime": {
     "end_time": "2024-04-09T22:27:22.699683Z",
     "start_time": "2024-04-09T22:27:22.607497Z"
    }
   },
   "id": "6fa5a8593f62c9d4"
  },
  {
   "cell_type": "code",
   "execution_count": null,
   "outputs": [],
   "source": [],
   "metadata": {
    "collapsed": false
   },
   "id": "aafe62cb58c54450"
  }
 ],
 "metadata": {
  "kernelspec": {
   "display_name": "Python 3",
   "language": "python",
   "name": "python3"
  },
  "language_info": {
   "codemirror_mode": {
    "name": "ipython",
    "version": 2
   },
   "file_extension": ".py",
   "mimetype": "text/x-python",
   "name": "python",
   "nbconvert_exporter": "python",
   "pygments_lexer": "ipython2",
   "version": "2.7.6"
  }
 },
 "nbformat": 4,
 "nbformat_minor": 5
}
