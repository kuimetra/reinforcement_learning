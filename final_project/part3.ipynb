{
 "cells": [
  {
   "cell_type": "code",
   "execution_count": 1,
   "id": "b28e96d65110588d",
   "metadata": {
    "collapsed": true,
    "ExecuteTime": {
     "end_time": "2024-05-11T16:25:10.037625Z",
     "start_time": "2024-05-11T16:25:08.970276Z"
    }
   },
   "outputs": [],
   "source": [
    "from torch.distributions import Normal\n",
    "import torch.optim as optim\n",
    "import torch.nn as nn\n",
    "import torch\n",
    "import matplotlib.pyplot as plt\n",
    "import seaborn as sns\n",
    "import numpy as np\n",
    "import pandas as pd\n",
    "import gymnasium\n",
    "import imageio\n",
    "import random"
   ]
  },
  {
   "cell_type": "code",
   "execution_count": 2,
   "outputs": [],
   "source": [
    "import warnings\n",
    "\n",
    "warnings.filterwarnings(\"ignore\")"
   ],
   "metadata": {
    "collapsed": false,
    "ExecuteTime": {
     "end_time": "2024-05-11T16:25:10.039388Z",
     "start_time": "2024-05-11T16:25:10.038810Z"
    }
   },
   "id": "e3a9863c0ff0350"
  },
  {
   "cell_type": "code",
   "execution_count": 3,
   "outputs": [],
   "source": [
    "class PolicyNetwork(nn.Module):\n",
    "    def __init__(self, state_dim, action_dim):\n",
    "        super(PolicyNetwork, self).__init__()\n",
    "        self.network = nn.Sequential(\n",
    "            nn.Linear(state_dim, 64),\n",
    "            nn.Tanh(),\n",
    "            nn.Linear(64, 64),\n",
    "            nn.Tanh(),\n",
    "            nn.Linear(64, action_dim)\n",
    "        )\n",
    "        self.log_std = nn.Parameter(torch.zeros(action_dim))\n",
    "\n",
    "    def forward(self, state):\n",
    "        mean = self.network(state)\n",
    "        log_std = self.log_std.expand_as(mean)\n",
    "        std = torch.exp(log_std)\n",
    "        return Normal(mean, std)\n",
    "\n",
    "\n",
    "class ValueNetwork(nn.Module):\n",
    "    def __init__(self, state_dim):\n",
    "        super(ValueNetwork, self).__init__()\n",
    "        self.network = nn.Sequential(\n",
    "            nn.Linear(state_dim, 64),\n",
    "            nn.Tanh(),\n",
    "            nn.Linear(64, 64),\n",
    "            nn.Tanh(),\n",
    "            nn.Linear(64, 1)\n",
    "        )\n",
    "\n",
    "    def forward(self, state):\n",
    "        return self.network(state)"
   ],
   "metadata": {
    "collapsed": false,
    "ExecuteTime": {
     "end_time": "2024-05-11T16:25:10.066110Z",
     "start_time": "2024-05-11T16:25:10.042916Z"
    }
   },
   "id": "35daddcba65777a8"
  },
  {
   "cell_type": "code",
   "execution_count": 4,
   "outputs": [],
   "source": [
    "class PPO:\n",
    "    def __init__(self, clip_eps):\n",
    "        self.env = gymnasium.make(\"InvertedPendulum-v4\", render_mode=\"rgb_array\")\n",
    "        self.state_dim = self.env.observation_space.shape[0]\n",
    "        self.action_dim = self.env.action_space.shape[0]\n",
    "\n",
    "        self.T = 2048\n",
    "        self.gamma = 0.99  # discount factor\n",
    "        self.lam = 0.95  # lambda for GAE\n",
    "        self.num_epochs = 10\n",
    "        self.minibatch_size = 64\n",
    "        self.clip_eps = clip_eps\n",
    "        self.policy_net = PolicyNetwork(self.state_dim, self.action_dim)\n",
    "        self.val_net = ValueNetwork(self.state_dim)\n",
    "        self.learning_rate = 3e-4\n",
    "        self.policy_optimizer = optim.Adam(self.policy_net.parameters(), lr=self.learning_rate)\n",
    "        self.value_optimizer = optim.Adam(self.val_net.parameters(), lr=self.learning_rate)\n",
    "\n",
    "    def select_action(self, state):\n",
    "        state = torch.FloatTensor(state).unsqueeze(0)\n",
    "        dist = self.policy_net(state)\n",
    "        action = dist.sample().squeeze(0)\n",
    "        log_prob = dist.log_prob(action).squeeze()\n",
    "        return action.numpy(), log_prob\n",
    "\n",
    "    def collect_data(self):\n",
    "        states, actions, rewards, log_probs, masks = [], [], [], [], []\n",
    "        episode_rewards = []\n",
    "        current_episode_reward = 0\n",
    "        total_timesteps = 0\n",
    "\n",
    "        state, _ = self.env.reset(seed=seed)\n",
    "\n",
    "        while total_timesteps < self.T:\n",
    "            action, log_prob = self.select_action(state)\n",
    "            next_state, reward, terminated, truncated, info = self.env.step(action)\n",
    "\n",
    "            done = terminated or truncated\n",
    "            mask = 0 if done else 1\n",
    "\n",
    "            states.append(state)\n",
    "            actions.append(action)\n",
    "            rewards.append(reward)\n",
    "            log_probs.append(log_prob)\n",
    "            masks.append(mask)\n",
    "\n",
    "            current_episode_reward += reward\n",
    "            state = next_state\n",
    "            total_timesteps += 1\n",
    "\n",
    "            if done:\n",
    "                episode_rewards.append(current_episode_reward)\n",
    "                current_episode_reward = 0\n",
    "                state, _ = self.env.reset(seed=seed)\n",
    "\n",
    "        return states, actions, rewards, log_probs, masks, episode_rewards\n",
    "\n",
    "    def compute_rewards_to_go(self, rewards, masks):\n",
    "        rtg = []\n",
    "        discounted_sum = 0\n",
    "        for reward, mask in zip(reversed(rewards), reversed(masks)):\n",
    "            discounted_sum = reward + self.gamma * discounted_sum * mask\n",
    "            rtg.insert(0, discounted_sum)\n",
    "        return torch.tensor(rtg)\n",
    "\n",
    "    def compute_advantages(self, states, rewards, masks):\n",
    "        values = self.val_net(torch.FloatTensor(states)).squeeze().detach()\n",
    "        T = len(rewards)\n",
    "        advantages = torch.zeros(T, dtype=torch.float32)\n",
    "        gae = 0.0\n",
    "        for t in reversed(range(T - 1)):\n",
    "            td_error = rewards[t] + self.gamma * values[t + 1] * masks[t + 1] - values[t]\n",
    "            gae = td_error + self.gamma * self.lam * gae * masks[t + 1]\n",
    "            advantages[t] = gae\n",
    "\n",
    "        advantages = (advantages - advantages.mean()) / (advantages.std() + 1e-10)\n",
    "        return advantages\n",
    "\n",
    "    def update(self, states, actions, log_probs_old, rewards_to_go, advantages):\n",
    "        total_samples = len(states)\n",
    "        indices = torch.randperm(total_samples)\n",
    "\n",
    "        for _ in range(self.num_epochs):\n",
    "            for i in range(0, total_samples, self.minibatch_size):\n",
    "                # Extract the minibatch\n",
    "                batch_indices = indices[i:i + self.minibatch_size]\n",
    "                states_batch = torch.FloatTensor(states)[batch_indices]\n",
    "                actions_batch = torch.FloatTensor(actions)[batch_indices]\n",
    "                old_log_probs_batch = torch.FloatTensor(log_probs_old)[batch_indices]\n",
    "                rewards_to_go_batch = torch.FloatTensor(rewards_to_go)[batch_indices]\n",
    "                advantages_batch = torch.FloatTensor(advantages)[batch_indices]\n",
    "\n",
    "                # Recalculate log probabilities for current policy\n",
    "                dist = self.policy_net(states_batch)\n",
    "                new_log_probs = dist.log_prob(actions_batch).sum(axis=-1)\n",
    "\n",
    "                # Ratio for PPO clipping\n",
    "                ratios = torch.exp(new_log_probs - old_log_probs_batch)\n",
    "\n",
    "                # Clipped objective function\n",
    "                surr1 = ratios * advantages_batch\n",
    "                surr2 = torch.clamp(ratios, 1 - self.clip_eps, 1 + self.clip_eps) * advantages_batch\n",
    "                policy_loss = -torch.min(surr1, surr2).mean()\n",
    "\n",
    "                # Update policy network\n",
    "                self.policy_optimizer.zero_grad()\n",
    "                policy_loss.backward()\n",
    "                self.policy_optimizer.step()\n",
    "\n",
    "                # Value function loss\n",
    "                value_preds = self.val_net(states_batch).squeeze()\n",
    "                value_loss = (value_preds - rewards_to_go_batch).pow(2).mean()\n",
    "\n",
    "                # Update value network\n",
    "                self.value_optimizer.zero_grad()\n",
    "                value_loss.backward()\n",
    "                self.value_optimizer.step()\n",
    "\n",
    "    def evaluate(self):\n",
    "        state, _ = self.env.reset(seed=seed)\n",
    "        total_reward = 0\n",
    "        done = False\n",
    "\n",
    "        while not done:\n",
    "            action, log_prob = self.select_action(state)\n",
    "            state, reward, terminated, truncated, info = self.env.step(action)\n",
    "            total_reward += 1\n",
    "            done = terminated or truncated\n",
    "\n",
    "        return total_reward\n",
    "\n",
    "    def train(self, seed):\n",
    "        torch.manual_seed(seed)\n",
    "        random.seed(seed)\n",
    "        np.random.seed(seed)\n",
    "\n",
    "        rewards_over_episodes = []\n",
    "\n",
    "        timestep = 0\n",
    "\n",
    "        while timestep < 1000:\n",
    "            states, actions, rewards, log_probs, masks, episode_rewards = self.collect_data()\n",
    "            timestep += len(episode_rewards)\n",
    "\n",
    "            rewards_to_go = self.compute_rewards_to_go(rewards, masks)\n",
    "            advantages = self.compute_advantages(states, rewards, masks)\n",
    "            log_probs = torch.FloatTensor(log_probs)\n",
    "\n",
    "            self.update(states, actions, log_probs, rewards_to_go, advantages)\n",
    "            rewards_over_episodes.extend(episode_rewards)\n",
    "\n",
    "            episode_reward = self.evaluate()\n",
    "            print(f\"Timestep {timestep}: Reward = {episode_reward}\")\n",
    "\n",
    "        return rewards_over_episodes"
   ],
   "metadata": {
    "collapsed": false,
    "ExecuteTime": {
     "end_time": "2024-05-11T16:25:10.066242Z",
     "start_time": "2024-05-11T16:25:10.044173Z"
    }
   },
   "id": "968e4eda4d80939a"
  },
  {
   "cell_type": "code",
   "execution_count": 5,
   "outputs": [
    {
     "name": "stdout",
     "output_type": "stream",
     "text": [
      "Timestep 229: Reward = 11\n",
      "Timestep 406: Reward = 17\n",
      "Timestep 543: Reward = 45\n",
      "Timestep 654: Reward = 26\n",
      "Timestep 722: Reward = 37\n",
      "Timestep 766: Reward = 53\n",
      "Timestep 813: Reward = 41\n",
      "Timestep 845: Reward = 67\n",
      "Timestep 871: Reward = 81\n",
      "Timestep 900: Reward = 76\n",
      "Timestep 922: Reward = 136\n",
      "Timestep 941: Reward = 33\n",
      "Timestep 956: Reward = 363\n",
      "Timestep 964: Reward = 226\n",
      "Timestep 970: Reward = 430\n",
      "Timestep 977: Reward = 269\n",
      "Timestep 984: Reward = 632\n",
      "Timestep 987: Reward = 1000\n",
      "Timestep 989: Reward = 1000\n",
      "Timestep 991: Reward = 1000\n",
      "Timestep 993: Reward = 1000\n",
      "Timestep 995: Reward = 691\n",
      "Timestep 997: Reward = 1000\n",
      "Timestep 999: Reward = 1000\n",
      "Timestep 1001: Reward = 1000\n"
     ]
    }
   ],
   "source": [
    "clip_epsilons = [0.2]\n",
    "seeds = [1]\n",
    "\n",
    "results = {}\n",
    "for eps in clip_epsilons:\n",
    "    agent = PPO(clip_eps=eps)\n",
    "    rewards_over_seeds = []\n",
    "    for seed in seeds:\n",
    "        rewards = agent.train(seed=seed)\n",
    "        rewards_over_seeds.append(rewards)\n",
    "    results[eps] = rewards_over_seeds"
   ],
   "metadata": {
    "collapsed": false,
    "ExecuteTime": {
     "end_time": "2024-05-11T16:25:54.918278Z",
     "start_time": "2024-05-11T16:25:10.057894Z"
    }
   },
   "id": "6bb650c3d48e664a"
  },
  {
   "cell_type": "code",
   "execution_count": 6,
   "outputs": [
    {
     "data": {
      "text/plain": "<Figure size 640x480 with 1 Axes>",
      "image/png": "[encoded data removed]"
     },
     "metadata": {},
     "output_type": "display_data"
    }
   ],
   "source": [
    "plt.plot(results[0.2][0])\n",
    "plt.show()"
   ],
   "metadata": {
    "collapsed": false,
    "ExecuteTime": {
     "end_time": "2024-05-11T16:26:25.114094Z",
     "start_time": "2024-05-11T16:26:24.996272Z"
    }
   },
   "id": "d69fcbe532a970fc"
  },
  {
   "cell_type": "code",
   "execution_count": 7,
   "outputs": [],
   "source": [
    "env = gymnasium.make(\"InvertedPendulum-v4\", render_mode=\"rgb_array\")\n",
    "frames = []\n",
    "\n",
    "state, _ = env.reset(seed=seed)\n",
    "done = False\n",
    "\n",
    "while not done:\n",
    "    action, log_prob = agent.select_action(state)\n",
    "\n",
    "    state, reward, terminated, truncated, info = env.step(action)\n",
    "    done = terminated or truncated\n",
    "\n",
    "    frame = env.render()\n",
    "    frames.append(frame)\n",
    "\n",
    "imageio.mimsave(\"inverted_pendulum.gif\", frames, fps=30)\n",
    "\n",
    "env.close()"
   ],
   "metadata": {
    "collapsed": false,
    "ExecuteTime": {
     "end_time": "2024-05-11T16:26:44.233578Z",
     "start_time": "2024-05-11T16:26:28.958234Z"
    }
   },
   "id": "2dd4eef5571c838e"
  },
  {
   "cell_type": "code",
   "execution_count": null,
   "outputs": [],
   "source": [],
   "metadata": {
    "collapsed": false
   },
   "id": "5daf8c871e5522bc"
  }
 ],
 "metadata": {
  "kernelspec": {
   "display_name": "Python 3",
   "language": "python",
   "name": "python3"
  },
  "language_info": {
   "codemirror_mode": {
    "name": "ipython",
    "version": 2
   },
   "file_extension": ".py",
   "mimetype": "text/x-python",
   "name": "python",
   "nbconvert_exporter": "python",
   "pygments_lexer": "ipython2",
   "version": "2.7.6"
  }
 },
 "nbformat": 4,
 "nbformat_minor": 5
}
