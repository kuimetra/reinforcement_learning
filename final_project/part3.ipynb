{
 "cells": [
  {
   "cell_type": "code",
   "execution_count": 1,
   "id": "b28e96d65110588d",
   "metadata": {
    "collapsed": true,
    "ExecuteTime": {
     "end_time": "2024-05-09T17:49:36.024153Z",
     "start_time": "2024-05-09T17:49:35.216808Z"
    }
   },
   "outputs": [],
   "source": [
    "import gymnasium\n",
    "from torch.distributions import Normal\n",
    "import torch.optim as optim\n",
    "import torch.nn as nn\n",
    "import torch\n",
    "import matplotlib.pyplot as plt\n",
    "import numpy as np\n",
    "import imageio"
   ]
  },
  {
   "cell_type": "code",
   "execution_count": 16,
   "outputs": [],
   "source": [
    "env = gymnasium.make(\"InvertedPendulum-v5\", render_mode=\"rgb_array\")"
   ],
   "metadata": {
    "collapsed": false,
    "ExecuteTime": {
     "end_time": "2024-05-09T17:55:54.192209Z",
     "start_time": "2024-05-09T17:55:54.182568Z"
    }
   },
   "id": "16bd03c7f0454be5"
  },
  {
   "cell_type": "code",
   "execution_count": 3,
   "outputs": [],
   "source": [
    "state_dim = env.observation_space.shape[0]\n",
    "action_dim = env.action_space.shape[0]"
   ],
   "metadata": {
    "collapsed": false,
    "ExecuteTime": {
     "end_time": "2024-05-09T17:49:36.142082Z",
     "start_time": "2024-05-09T17:49:36.129111Z"
    }
   },
   "id": "cfcd967e8ee8617a"
  },
  {
   "cell_type": "code",
   "execution_count": 4,
   "outputs": [],
   "source": [
    "num_iterations = 1000\n",
    "horizon = 2048\n",
    "learning_rate = 3e-4\n",
    "num_epochs = 10\n",
    "minibatch_size = 64\n",
    "gamma = 0.99\n",
    "gae = 0.95"
   ],
   "metadata": {
    "collapsed": false,
    "ExecuteTime": {
     "end_time": "2024-05-09T17:49:36.142183Z",
     "start_time": "2024-05-09T17:49:36.131355Z"
    }
   },
   "id": "80f7b9c17bd4a10"
  },
  {
   "cell_type": "code",
   "execution_count": 5,
   "outputs": [],
   "source": [
    "class Actor(nn.Module):\n",
    "    def __init__(self, state_dim, action_dim):\n",
    "        super(Actor, self).__init__()\n",
    "        self.network = nn.Sequential(\n",
    "            nn.Linear(state_dim, 64),\n",
    "            nn.Tanh(),\n",
    "            nn.Linear(64, 64),\n",
    "            nn.Tanh(),\n",
    "            nn.Linear(64, action_dim)\n",
    "        )\n",
    "        self.log_std = nn.Parameter(torch.zeros(action_dim))\n",
    "\n",
    "    def forward(self, state):\n",
    "        mean = self.network(state)\n",
    "        log_std = self.log_std.expand_as(mean)\n",
    "        std = torch.exp(log_std)\n",
    "        return Normal(mean, std)\n",
    "\n",
    "\n",
    "class Critic(nn.Module):\n",
    "    def __init__(self, state_dim):\n",
    "        super(Critic, self).__init__()\n",
    "        self.network = nn.Sequential(\n",
    "            nn.Linear(state_dim, 64),\n",
    "            nn.Tanh(),\n",
    "            nn.Linear(64, 64),\n",
    "            nn.Tanh(),\n",
    "            nn.Linear(64, 1)\n",
    "        )\n",
    "\n",
    "    def forward(self, state):\n",
    "        return self.network(state)"
   ],
   "metadata": {
    "collapsed": false,
    "ExecuteTime": {
     "end_time": "2024-05-09T17:49:36.142210Z",
     "start_time": "2024-05-09T17:49:36.136089Z"
    }
   },
   "id": "35daddcba65777a8"
  },
  {
   "cell_type": "code",
   "execution_count": 6,
   "outputs": [],
   "source": [
    "def generate_episode(env, actor, T):\n",
    "    states, actions, rewards, log_probs = [], [], [], []\n",
    "    state, _ = env.reset()\n",
    "\n",
    "    for t in range(T):\n",
    "        state_tensor = torch.FloatTensor(state).unsqueeze(0)\n",
    "\n",
    "        dist = actor(state_tensor)\n",
    "        action = dist.sample().squeeze(0)\n",
    "        log_prob = dist.log_prob(action).squeeze()\n",
    "\n",
    "        next_state, reward, terminated, truncated, info = env.step(action.numpy())\n",
    "        states.append(state)\n",
    "        actions.append(action)\n",
    "        rewards.append(reward)\n",
    "        log_probs.append(log_prob)\n",
    "\n",
    "        done = terminated or truncated\n",
    "        if done:\n",
    "            break\n",
    "\n",
    "        state = next_state\n",
    "\n",
    "    return (torch.FloatTensor(np.vstack(states)), torch.FloatTensor(np.vstack(actions)), rewards,\n",
    "            torch.FloatTensor(log_probs))"
   ],
   "metadata": {
    "collapsed": false,
    "ExecuteTime": {
     "end_time": "2024-05-09T17:49:36.142233Z",
     "start_time": "2024-05-09T17:49:36.139690Z"
    }
   },
   "id": "18e7b8a5e18797fc"
  },
  {
   "cell_type": "code",
   "execution_count": 7,
   "outputs": [],
   "source": [
    "def compute_rewards_to_go(rewards, gamma=0.99):\n",
    "    rtg = []\n",
    "    discounted_sum = 0\n",
    "    for reward in reversed(rewards):\n",
    "        discounted_sum = reward + gamma * discounted_sum\n",
    "        rtg.insert(0, discounted_sum)\n",
    "    return rtg"
   ],
   "metadata": {
    "collapsed": false,
    "ExecuteTime": {
     "end_time": "2024-05-09T17:49:36.143555Z",
     "start_time": "2024-05-09T17:49:36.142350Z"
    }
   },
   "id": "ba69e81406aff3b3"
  },
  {
   "cell_type": "code",
   "execution_count": 8,
   "outputs": [],
   "source": [
    "def compute_advantages(rewards, values, gamma=0.99, lam=0.95):\n",
    "    T = len(rewards)\n",
    "    advantages = torch.zeros(T, dtype=torch.float32)\n",
    "    gae = 0.0\n",
    "    for t in reversed(range(T - 1)):\n",
    "        td_error = rewards[t] + gamma * values[t + 1] - values[t]\n",
    "        gae = td_error + gamma * lam * gae\n",
    "        advantages[t] = gae\n",
    "    return advantages"
   ],
   "metadata": {
    "collapsed": false,
    "ExecuteTime": {
     "end_time": "2024-05-09T17:49:36.161368Z",
     "start_time": "2024-05-09T17:49:36.145047Z"
    }
   },
   "id": "f073cb8fecb2c186"
  },
  {
   "cell_type": "code",
   "execution_count": 9,
   "outputs": [],
   "source": [
    "def update_policy(actor, critic, states, actions, log_probs_old, advantages, rewards_to_go, minibatch_size,\n",
    "                  clip_param=0.2):\n",
    "    total_samples = states.size(0)\n",
    "\n",
    "    for _ in range(num_epochs):\n",
    "        perm = torch.randperm(total_samples)\n",
    "\n",
    "        states_perm, actions_perm, log_probs_old_perm, advantages_perm, rewards_to_go_perm = \\\n",
    "            states[perm], actions[perm], log_probs_old[perm], advantages[perm], rewards_to_go[perm]\n",
    "\n",
    "        # Process each minibatch\n",
    "        for i in range(0, total_samples, minibatch_size):\n",
    "            states_batch = states_perm[i:i + minibatch_size]\n",
    "            actions_batch = actions_perm[i:i + minibatch_size]\n",
    "            log_probs_old_batch = log_probs_old_perm[i:i + minibatch_size]\n",
    "            advantages_batch = advantages_perm[i:i + minibatch_size]\n",
    "            rewards_to_go_batch = rewards_to_go_perm[i:i + minibatch_size]\n",
    "\n",
    "            # Recompute distribution for current policy\n",
    "            dist = actor(states_batch)\n",
    "            log_probs = dist.log_prob(actions_batch).squeeze()\n",
    "\n",
    "            # Calculate the ratio of new to old probabilities\n",
    "            ratios = torch.exp(log_probs - log_probs_old_batch.detach())\n",
    "\n",
    "            # Clipping the ratio to stabilize training\n",
    "            clipped_ratios = torch.clamp(ratios, 1 - clip_param, 1 + clip_param)\n",
    "\n",
    "            # Calculate the clipped and unclipped objective\n",
    "            unclipped_objective = ratios * advantages_batch\n",
    "            clipped_objective = clipped_ratios * advantages_batch\n",
    "\n",
    "            # Negative sign to run gradient ascent\n",
    "            actor_loss = -torch.min(unclipped_objective, clipped_objective).mean()\n",
    "\n",
    "            values = critic(states_batch).squeeze()\n",
    "\n",
    "            # Critic loss\n",
    "            critic_loss = nn.MSELoss()(values, rewards_to_go_batch)\n",
    "\n",
    "            # Optimize the actor\n",
    "            actor_optimizer.zero_grad()\n",
    "            actor_loss.backward(retain_graph=True)\n",
    "            actor_optimizer.step()\n",
    "\n",
    "            # Optimize the critic\n",
    "            critic_optimizer.zero_grad()\n",
    "            critic_loss.backward()\n",
    "            critic_optimizer.step()"
   ],
   "metadata": {
    "collapsed": false,
    "ExecuteTime": {
     "end_time": "2024-05-09T17:49:36.164930Z",
     "start_time": "2024-05-09T17:49:36.150094Z"
    }
   },
   "id": "bc4cb84877bb0044"
  },
  {
   "cell_type": "code",
   "execution_count": 10,
   "outputs": [],
   "source": [
    "actor = Actor(state_dim, action_dim)\n",
    "critic = Critic(state_dim)\n",
    "actor_optimizer = optim.Adam(actor.parameters(), lr=learning_rate)\n",
    "critic_optimizer = optim.Adam(critic.parameters(), lr=learning_rate)"
   ],
   "metadata": {
    "collapsed": false,
    "ExecuteTime": {
     "end_time": "2024-05-09T17:49:36.553712Z",
     "start_time": "2024-05-09T17:49:36.152558Z"
    }
   },
   "id": "68dcc3d908f6a6e2"
  },
  {
   "cell_type": "code",
   "execution_count": 11,
   "outputs": [
    {
     "name": "stdout",
     "output_type": "stream",
     "text": [
      "Episode 50: 17"
     ]
    },
    {
     "name": "stderr",
     "output_type": "stream",
     "text": [
      "/Library/Frameworks/Python.framework/Versions/3.11/lib/python3.11/site-packages/torch/nn/modules/loss.py:535: UserWarning: Using a target size (torch.Size([1])) that is different to the input size (torch.Size([])). This will likely lead to incorrect results due to broadcasting. Please ensure they have the same size.\n",
      "  return F.mse_loss(input, target, reduction=self.reduction)\n"
     ]
    },
    {
     "name": "stdout",
     "output_type": "stream",
     "text": [
      "Episode 990: 1000"
     ]
    }
   ],
   "source": [
    "rewards_over_episodes = []\n",
    "\n",
    "for iteration in range(num_iterations):\n",
    "    states, actions, rewards, log_probs = generate_episode(env, actor, horizon)\n",
    "\n",
    "    episode_reward = sum(rewards)\n",
    "    rewards_over_episodes.append(episode_reward)\n",
    "\n",
    "    if iteration % 10 == 0:\n",
    "        print(f\"\\rEpisode {iteration}: {episode_reward}\", end=\"\")\n",
    "\n",
    "    rewards_to_go = compute_rewards_to_go(rewards)\n",
    "    rewards_to_go = torch.tensor(rewards_to_go)\n",
    "\n",
    "    values = critic(states).squeeze()\n",
    "\n",
    "    advantages = compute_advantages(rewards, values.detach())\n",
    "    advantages = (advantages - advantages.mean()) / (advantages.std() + 1e-10)\n",
    "\n",
    "    update_policy(actor, critic, states, actions, log_probs, advantages, rewards_to_go, minibatch_size)"
   ],
   "metadata": {
    "collapsed": false,
    "ExecuteTime": {
     "end_time": "2024-05-09T17:55:20.002703Z",
     "start_time": "2024-05-09T17:49:36.555809Z"
    }
   },
   "id": "52c0344325b8be4f"
  },
  {
   "cell_type": "code",
   "execution_count": 19,
   "outputs": [
    {
     "data": {
      "text/plain": "<Figure size 640x480 with 1 Axes>",
      "image/png": "[encoded data removed]"
     },
     "metadata": {},
     "output_type": "display_data"
    }
   ],
   "source": [
    "import pandas as pd\n",
    "\n",
    "plt.plot(rewards_over_episodes)\n",
    "plt.plot(pd.Series(rewards_over_episodes).rolling(50).mean())\n",
    "plt.show()"
   ],
   "metadata": {
    "collapsed": false,
    "ExecuteTime": {
     "end_time": "2024-05-09T17:59:00.298732Z",
     "start_time": "2024-05-09T17:59:00.224512Z"
    }
   },
   "id": "bb3c2a18595c6d7d"
  },
  {
   "cell_type": "code",
   "execution_count": 17,
   "outputs": [],
   "source": [
    "frames = []\n",
    "\n",
    "state, _ = env.reset()\n",
    "\n",
    "for _ in range(horizon):\n",
    "    state_tensor = torch.FloatTensor(state).unsqueeze(0)\n",
    "\n",
    "    dist = actor(state_tensor)\n",
    "    action = dist.sample().squeeze(0)\n",
    "    log_prob = dist.log_prob(action).squeeze()\n",
    "\n",
    "    next_state, reward, terminated, truncated, info = env.step(action.numpy())\n",
    "\n",
    "    frame = env.render()\n",
    "    frames.append(frame)\n",
    "\n",
    "    done = terminated or truncated\n",
    "    if done:\n",
    "        break\n",
    "\n",
    "    state = next_state\n",
    "\n",
    "imageio.mimsave(\"inverted_pendulum.gif\", frames, fps=30)\n",
    "\n",
    "env.close()"
   ],
   "metadata": {
    "collapsed": false,
    "ExecuteTime": {
     "end_time": "2024-05-09T17:56:11.188995Z",
     "start_time": "2024-05-09T17:55:56.795695Z"
    }
   },
   "id": "a999717c8ac238fc"
  },
  {
   "cell_type": "code",
   "execution_count": 13,
   "outputs": [],
   "source": [],
   "metadata": {
    "collapsed": false,
    "ExecuteTime": {
     "end_time": "2024-05-09T17:55:35.012423Z",
     "start_time": "2024-05-09T17:55:35.011924Z"
    }
   },
   "id": "2a01b336ffe8386d"
  }
 ],
 "metadata": {
  "kernelspec": {
   "display_name": "Python 3",
   "language": "python",
   "name": "python3"
  },
  "language_info": {
   "codemirror_mode": {
    "name": "ipython",
    "version": 2
   },
   "file_extension": ".py",
   "mimetype": "text/x-python",
   "name": "python",
   "nbconvert_exporter": "python",
   "pygments_lexer": "ipython2",
   "version": "2.7.6"
  }
 },
 "nbformat": 4,
 "nbformat_minor": 5
}
