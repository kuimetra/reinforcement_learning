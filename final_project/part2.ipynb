{
 "cells": [
  {
   "cell_type": "code",
   "execution_count": 6,
   "outputs": [],
   "source": [
    "import gymnasium\n",
    "import cookiedisaster"
   ],
   "metadata": {
    "collapsed": false,
    "ExecuteTime": {
     "end_time": "2024-04-11T07:38:44.744603Z",
     "start_time": "2024-04-11T07:38:44.740229Z"
    }
   },
   "id": "c1620060e0247b67"
  },
  {
   "cell_type": "code",
   "execution_count": 7,
   "outputs": [
    {
     "name": "stdout",
     "output_type": "stream",
     "text": [
      "cookiedisaster/envs/imgs/cookie.png\n",
      "cookiedisaster/envs/imgs/cake.png\n",
      "cookiedisaster/envs/imgs/scones.png\n"
     ]
    }
   ],
   "source": [
    "env1 = gymnasium.make('cookiedisaster-v1')\n",
    "env2 = gymnasium.make('cookiedisaster-v2')\n",
    "env3 = gymnasium.make('cookiedisaster-v3')"
   ],
   "metadata": {
    "collapsed": false,
    "ExecuteTime": {
     "end_time": "2024-04-11T07:38:44.770328Z",
     "start_time": "2024-04-11T07:38:44.743504Z"
    }
   },
   "id": "eb94f458add70af4"
  },
  {
   "cell_type": "code",
   "execution_count": 8,
   "outputs": [
    {
     "data": {
      "text/plain": "({'agent': {'pos': 5.0, 'vel': 0.0},\n  'cookie': {'pos': 0.33660796704368096, 'time': 5}},\n {'distance': 4.663392032956319, 'steps': 0})"
     },
     "execution_count": 8,
     "metadata": {},
     "output_type": "execute_result"
    }
   ],
   "source": [
    "env1.reset()"
   ],
   "metadata": {
    "collapsed": false,
    "ExecuteTime": {
     "end_time": "2024-04-11T07:38:44.773719Z",
     "start_time": "2024-04-11T07:38:44.769392Z"
    }
   },
   "id": "25bd4aaf1541d8cf"
  },
  {
   "cell_type": "code",
   "execution_count": 9,
   "outputs": [
    {
     "data": {
      "text/plain": "({'agent': {'pos': 2.5, 'vel': 0.0},\n  'cookie': {'pos': 0.7279707248138821, 'time': 4}},\n {'distance': 1.7720292751861177, 'steps': 0})"
     },
     "execution_count": 9,
     "metadata": {},
     "output_type": "execute_result"
    }
   ],
   "source": [
    "env2.reset()"
   ],
   "metadata": {
    "collapsed": false,
    "ExecuteTime": {
     "end_time": "2024-04-11T07:38:44.776582Z",
     "start_time": "2024-04-11T07:38:44.772999Z"
    }
   },
   "id": "a3277346045e800e"
  },
  {
   "cell_type": "code",
   "execution_count": 10,
   "outputs": [
    {
     "data": {
      "text/plain": "({'agent': {'pos': 6.0, 'vel': 0.0},\n  'cookie': {'pos': 0.8153026759794678, 'time': 7}},\n {'distance': 5.184697324020532, 'steps': 0})"
     },
     "execution_count": 10,
     "metadata": {},
     "output_type": "execute_result"
    }
   ],
   "source": [
    "env3.reset()"
   ],
   "metadata": {
    "collapsed": false,
    "ExecuteTime": {
     "end_time": "2024-04-11T07:38:44.779597Z",
     "start_time": "2024-04-11T07:38:44.776705Z"
    }
   },
   "id": "9645da19cbbc171"
  },
  {
   "cell_type": "code",
   "execution_count": 10,
   "outputs": [],
   "source": [],
   "metadata": {
    "collapsed": false,
    "ExecuteTime": {
     "end_time": "2024-04-11T07:38:44.781963Z",
     "start_time": "2024-04-11T07:38:44.778465Z"
    }
   },
   "id": "2b08255a6868a9a8"
  }
 ],
 "metadata": {
  "kernelspec": {
   "display_name": "Python 3",
   "language": "python",
   "name": "python3"
  },
  "language_info": {
   "codemirror_mode": {
    "name": "ipython",
    "version": 2
   },
   "file_extension": ".py",
   "mimetype": "text/x-python",
   "name": "python",
   "nbconvert_exporter": "python",
   "pygments_lexer": "ipython2",
   "version": "2.7.6"
  }
 },
 "nbformat": 4,
 "nbformat_minor": 5
}
