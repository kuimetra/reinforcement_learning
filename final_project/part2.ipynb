{
 "cells": [
  {
   "cell_type": "code",
   "execution_count": 6,
   "outputs": [],
   "source": [
    "import gymnasium\n",
    "import cookiedisaster"
   ],
   "metadata": {
    "collapsed": false,
    "ExecuteTime": {
     "end_time": "2024-04-11T09:09:35.788115Z",
     "start_time": "2024-04-11T09:09:35.781632Z"
    }
   },
   "id": "c1620060e0247b67"
  },
  {
   "cell_type": "code",
   "execution_count": 7,
   "outputs": [],
   "source": [
    "env1 = gymnasium.make('cookiedisaster-v1')\n",
    "env2 = gymnasium.make('cookiedisaster-v2')\n",
    "env3 = gymnasium.make('cookiedisaster-v3')"
   ],
   "metadata": {
    "collapsed": false,
    "ExecuteTime": {
     "end_time": "2024-04-11T09:09:35.813992Z",
     "start_time": "2024-04-11T09:09:35.786933Z"
    }
   },
   "id": "eb94f458add70af4"
  },
  {
   "cell_type": "code",
   "execution_count": 8,
   "outputs": [
    {
     "data": {
      "text/plain": "({'agent': {'pos': 5.0, 'vel': 0.0},\n  'cookie': {'pos': 0.33660796704368096, 'time': 5}},\n {'distance': 4.663392032956319, 'steps': 0})"
     },
     "execution_count": 8,
     "metadata": {},
     "output_type": "execute_result"
    }
   ],
   "source": [
    "env1.reset()"
   ],
   "metadata": {
    "collapsed": false,
    "ExecuteTime": {
     "end_time": "2024-04-11T09:09:35.818986Z",
     "start_time": "2024-04-11T09:09:35.813911Z"
    }
   },
   "id": "25bd4aaf1541d8cf"
  },
  {
   "cell_type": "code",
   "execution_count": 9,
   "outputs": [
    {
     "data": {
      "text/plain": "({'agent': {'pos': 2.5, 'vel': 0.0},\n  'cookie': {'pos': 0.7279707248138821, 'time': 4}},\n {'distance': 1.7720292751861177, 'steps': 0})"
     },
     "execution_count": 9,
     "metadata": {},
     "output_type": "execute_result"
    }
   ],
   "source": [
    "env2.reset()"
   ],
   "metadata": {
    "collapsed": false,
    "ExecuteTime": {
     "end_time": "2024-04-11T09:09:35.819695Z",
     "start_time": "2024-04-11T09:09:35.817454Z"
    }
   },
   "id": "a3277346045e800e"
  },
  {
   "cell_type": "code",
   "execution_count": 10,
   "outputs": [
    {
     "data": {
      "text/plain": "({'agent': {'pos': 6.0, 'vel': 0.0},\n  'cookie': {'pos': 0.8153026759794678, 'time': 7}},\n {'distance': 5.184697324020532, 'steps': 0})"
     },
     "execution_count": 10,
     "metadata": {},
     "output_type": "execute_result"
    }
   ],
   "source": [
    "env3.reset()"
   ],
   "metadata": {
    "collapsed": false,
    "ExecuteTime": {
     "end_time": "2024-04-11T09:09:35.824006Z",
     "start_time": "2024-04-11T09:09:35.821432Z"
    }
   },
   "id": "9645da19cbbc171"
  },
  {
   "cell_type": "code",
   "execution_count": 10,
   "outputs": [],
   "source": [],
   "metadata": {
    "collapsed": false,
    "ExecuteTime": {
     "end_time": "2024-04-11T09:09:35.828262Z",
     "start_time": "2024-04-11T09:09:35.824147Z"
    }
   },
   "id": "2b08255a6868a9a8"
  }
 ],
 "metadata": {
  "kernelspec": {
   "display_name": "Python 3",
   "language": "python",
   "name": "python3"
  },
  "language_info": {
   "codemirror_mode": {
    "name": "ipython",
    "version": 2
   },
   "file_extension": ".py",
   "mimetype": "text/x-python",
   "name": "python",
   "nbconvert_exporter": "python",
   "pygments_lexer": "ipython2",
   "version": "2.7.6"
  }
 },
 "nbformat": 4,
 "nbformat_minor": 5
}
