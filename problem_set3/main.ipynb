{
 "cells": [
  {
   "cell_type": "code",
   "execution_count": 1,
   "outputs": [],
   "source": [
    "import pickle\n",
    "import seaborn as sns\n",
    "import matplotlib.pyplot as plt\n",
    "import numpy as np\n",
    "import random\n",
    "import gymnasium\n",
    "from collections import defaultdict\n",
    "import mountain_lite"
   ],
   "metadata": {
    "collapsed": false,
    "ExecuteTime": {
     "end_time": "2024-02-27T22:25:23.511776Z",
     "start_time": "2024-02-27T22:25:23.432679Z"
    }
   },
   "id": "d91afa4cef613be"
  },
  {
   "cell_type": "code",
   "execution_count": 2,
   "outputs": [],
   "source": [
    "np.random.seed(123)\n",
    "random.seed(123)"
   ],
   "metadata": {
    "collapsed": false,
    "ExecuteTime": {
     "end_time": "2024-02-27T22:25:23.516892Z",
     "start_time": "2024-02-27T22:25:23.512245Z"
    }
   },
   "id": "eb5954adb1c1b8ac"
  },
  {
   "cell_type": "code",
   "execution_count": 3,
   "outputs": [],
   "source": [
    "with open('trajectories.pickle', 'rb') as fd:\n",
    "    D = pickle.load(fd)"
   ],
   "metadata": {
    "collapsed": false,
    "ExecuteTime": {
     "end_time": "2024-02-27T22:25:24.078938Z",
     "start_time": "2024-02-27T22:25:23.515395Z"
    }
   },
   "id": "eada99dd9e9fc09c"
  },
  {
   "cell_type": "markdown",
   "source": [
    "1. Load the trajectories and perform MC evaluation for $v_\\pi(s)$."
   ],
   "metadata": {
    "collapsed": false
   },
   "id": "1cc8305f935fc928"
  },
  {
   "cell_type": "code",
   "execution_count": 4,
   "outputs": [],
   "source": [
    "def mc_prediction(trajectories, gamma=1, env_height=31, env_width=100):\n",
    "    # initialize value function to zero for all states\n",
    "    V = np.zeros((env_height, env_width))\n",
    "    # initialize returns to an empty list for all states\n",
    "    returns = {(i, j): [] for i in range(env_height) for j in range(env_width)}\n",
    "\n",
    "    # process each trajectory\n",
    "    for i, trajectory in enumerate(trajectories):\n",
    "        G = 0\n",
    "        states_and_returns = []\n",
    "\n",
    "        # reverse the trajectory to calculate returns from the end\n",
    "        for state, _, reward, _ in reversed(trajectory):\n",
    "            G = gamma * G + reward\n",
    "            states_and_returns.append((state, G))\n",
    "\n",
    "        # track visited states for first-visit MC\n",
    "        states_visited = set()\n",
    "\n",
    "        # update the value function for the states, but only for first visit\n",
    "        for state, G in reversed(states_and_returns):\n",
    "            if state not in states_visited:\n",
    "                returns[state].append(G)\n",
    "                V[state] = np.mean(returns[state])\n",
    "                states_visited.add(state)\n",
    "\n",
    "    return V"
   ],
   "metadata": {
    "collapsed": false,
    "ExecuteTime": {
     "end_time": "2024-02-27T22:25:24.084237Z",
     "start_time": "2024-02-27T22:25:24.080418Z"
    }
   },
   "id": "5f5a2b9cb98694db"
  },
  {
   "cell_type": "code",
   "execution_count": 5,
   "outputs": [],
   "source": [
    "value_function = mc_prediction(D)"
   ],
   "metadata": {
    "collapsed": false,
    "ExecuteTime": {
     "end_time": "2024-02-27T22:25:26.418044Z",
     "start_time": "2024-02-27T22:25:24.133333Z"
    }
   },
   "id": "3126cf6f7e75a065"
  },
  {
   "cell_type": "markdown",
   "source": [
    "2. Load the trajectories and perform MC evaluation for $q_\\pi(a,s)$."
   ],
   "metadata": {
    "collapsed": false
   },
   "id": "a15e228d5a36afbd"
  },
  {
   "cell_type": "code",
   "execution_count": 6,
   "outputs": [],
   "source": [
    "def mc_action_value_prediction(trajectories, gamma=1, env_height=31, env_width=100, action_space=8):\n",
    "    # initialize action-value function to zero for all state-action pairs\n",
    "    Q = np.zeros((env_height, env_width, action_space))\n",
    "    # initialize a dictionary to store returns for all state-action pairs\n",
    "    returns = {(i, j, a): [] for i in range(env_height) for j in range(env_width) for a in range(action_space)}\n",
    "\n",
    "    # process each trajectory\n",
    "    for trajectory in trajectories:\n",
    "        G = 0  # discounted return\n",
    "        state_action_returns = []\n",
    "\n",
    "        # reverse the trajectory to calculate returns from the end\n",
    "        for state, action, reward, _ in reversed(trajectory):\n",
    "            G = gamma * G + reward\n",
    "            state_action_returns.append((state, action, G))\n",
    "\n",
    "        # track visited state-action pairs for first-visit MC\n",
    "        state_action_visited = set()\n",
    "\n",
    "        # update the action-value function for the state-action pairs, but only for first visit\n",
    "        for state, action, G in reversed(state_action_returns):\n",
    "            if (state, action) not in state_action_visited:\n",
    "                returns[(state[0], state[1], action)].append(G)\n",
    "                # update the Q value as the average of returns for this state-action pair\n",
    "                Q[state[0], state[1], action] = np.mean(returns[(state[0], state[1], action)])\n",
    "                state_action_visited.add((state, action))\n",
    "\n",
    "    return Q"
   ],
   "metadata": {
    "collapsed": false,
    "ExecuteTime": {
     "end_time": "2024-02-27T22:25:26.423321Z",
     "start_time": "2024-02-27T22:25:26.420359Z"
    }
   },
   "id": "c53aeec69804323f"
  },
  {
   "cell_type": "code",
   "execution_count": 7,
   "outputs": [],
   "source": [
    "action_value_function = mc_action_value_prediction(D)"
   ],
   "metadata": {
    "collapsed": false,
    "ExecuteTime": {
     "end_time": "2024-02-27T22:25:29.948452Z",
     "start_time": "2024-02-27T22:25:26.459892Z"
    }
   },
   "id": "ec63b5e03b06b7eb"
  },
  {
   "cell_type": "markdown",
   "source": [
    "3. Plot the state-value function $v_\\pi(s)$."
   ],
   "metadata": {
    "collapsed": false
   },
   "id": "944f61cb05f896e4"
  },
  {
   "cell_type": "code",
   "execution_count": 8,
   "outputs": [
    {
     "data": {
      "text/plain": "<Figure size 1100x300 with 2 Axes>",
      "image/png": "[encoded data removed]"
     },
     "metadata": {},
     "output_type": "display_data"
    }
   ],
   "source": [
    "custom_cmap = sns.cubehelix_palette(start=.5, rot=-.5, reverse=True, as_cmap=True)\n",
    "plt.figure(figsize=(11, 3))\n",
    "sns.heatmap(value_function, cmap=custom_cmap, linewidths=0.5, linecolor='slategrey')\n",
    "plt.title('State-Value Function $v_\\pi(s)$')\n",
    "plt.xticks(ticks=[*range(0, 101, 10)], labels=[*range(0, 101, 10)])\n",
    "plt.yticks(ticks=[*range(0, 31, 10)], labels=[*range(0, 31, 10)])\n",
    "plt.show()"
   ],
   "metadata": {
    "collapsed": false,
    "ExecuteTime": {
     "end_time": "2024-02-27T22:25:30.147955Z",
     "start_time": "2024-02-27T22:25:29.950024Z"
    }
   },
   "id": "48cf04931022ee04"
  },
  {
   "cell_type": "markdown",
   "source": [
    "5. (*) Can you perform MC improvement? If so, perform it and explain whether the new policy is optimal or not."
   ],
   "metadata": {
    "collapsed": false
   },
   "id": "2a1c21366051e338"
  },
  {
   "cell_type": "code",
   "execution_count": 9,
   "outputs": [],
   "source": [
    "def mc_policy_improvement(Q):\n",
    "    new_policy = np.argmax(Q, axis=2)\n",
    "    return new_policy"
   ],
   "metadata": {
    "collapsed": false,
    "ExecuteTime": {
     "end_time": "2024-02-27T22:25:30.148075Z",
     "start_time": "2024-02-27T22:25:30.146136Z"
    }
   },
   "id": "33e6310c633586e5"
  },
  {
   "cell_type": "code",
   "execution_count": 10,
   "outputs": [
    {
     "data": {
      "text/plain": "array([[2, 6, 2, ..., 0, 0, 0],\n       [4, 5, 6, ..., 0, 0, 0],\n       [4, 6, 6, ..., 0, 0, 0],\n       ...,\n       [1, 1, 1, ..., 0, 0, 0],\n       [3, 3, 4, ..., 0, 0, 0],\n       [3, 7, 5, ..., 0, 0, 0]])"
     },
     "execution_count": 10,
     "metadata": {},
     "output_type": "execute_result"
    }
   ],
   "source": [
    "mc_policy_improvement(action_value_function)"
   ],
   "metadata": {
    "collapsed": false,
    "ExecuteTime": {
     "end_time": "2024-02-27T22:25:30.153294Z",
     "start_time": "2024-02-27T22:25:30.149155Z"
    }
   },
   "id": "1b02e70c76bc7bd8"
  },
  {
   "cell_type": "code",
   "execution_count": 11,
   "outputs": [],
   "source": [
    "env = gymnasium.make('mountain_lite/GridWorld-v0')"
   ],
   "metadata": {
    "collapsed": false,
    "ExecuteTime": {
     "end_time": "2024-02-27T22:25:30.157925Z",
     "start_time": "2024-02-27T22:25:30.151365Z"
    }
   },
   "id": "a942ad7ce46ac21f"
  },
  {
   "cell_type": "markdown",
   "source": [
    "7. (*) Choose a starting policy for the robot, and justify your choice."
   ],
   "metadata": {
    "collapsed": false
   },
   "id": "d07c348240396aea"
  },
  {
   "cell_type": "code",
   "execution_count": 12,
   "outputs": [],
   "source": [
    "def random_argmax(arr):\n",
    "    max_value = np.max(arr)\n",
    "    max_indices = np.where(arr == max_value)[0]\n",
    "    random_index = random.choice(max_indices)\n",
    "    return random_index"
   ],
   "metadata": {
    "collapsed": false,
    "ExecuteTime": {
     "end_time": "2024-02-27T22:25:30.158045Z",
     "start_time": "2024-02-27T22:25:30.156699Z"
    }
   },
   "id": "6207639c108a1ca3"
  },
  {
   "cell_type": "code",
   "execution_count": 13,
   "outputs": [],
   "source": [
    "def eps_soft_policy(Q, epsilon, action_space):\n",
    "    # define an epsilon-soft policy function based on the Q table\n",
    "    def policy_func(state):\n",
    "        # initialize a uniform distribution for all actions with a bias of epsilon\n",
    "        prob_distribution = np.ones(action_space) * epsilon / action_space\n",
    "        # use random_argmax to choose the action with the highest Q value (with ties broken arbitrarily)\n",
    "        best_action = random_argmax(Q[state])\n",
    "        # increase the probability of taking the best action by 1 - epsilon\n",
    "        prob_distribution[best_action] += (1 - epsilon)\n",
    "        return prob_distribution\n",
    "\n",
    "    return policy_func"
   ],
   "metadata": {
    "collapsed": false,
    "ExecuteTime": {
     "end_time": "2024-02-27T22:25:30.162803Z",
     "start_time": "2024-02-27T22:25:30.159304Z"
    }
   },
   "id": "306972148ea6718e"
  },
  {
   "cell_type": "markdown",
   "source": [
    "8. Perform MC control and learn an optimal policy for the robot."
   ],
   "metadata": {
    "collapsed": false
   },
   "id": "f53bdb2e0ec07f82"
  },
  {
   "cell_type": "code",
   "execution_count": 14,
   "outputs": [],
   "source": [
    "def mc_control_epsilon_greedy(env, num_episodes, episode_steps=500, gamma=1, epsilon=0.1, env_height=31, env_width=100):\n",
    "    # initialize the Q table for storing the action value function\n",
    "    Q = np.zeros((env_height, env_width, env.action_space.n))\n",
    "    # initialize the policy using the epsilon-soft method\n",
    "    policy = eps_soft_policy(Q, epsilon, env.action_space.n)\n",
    "    # initialize a dictionary to store returns for all state-action pairs\n",
    "    returns = {(i, j, a): [] for i in range(env_height) for j in range(env_width) for a in range(env.action_space.n)}\n",
    "\n",
    "    # loop through each episode\n",
    "    for i in range(1, num_episodes + 1):\n",
    "        if i % 100 == 0:\n",
    "            print(f\"\\rEpisode {i}/{num_episodes}.\", end=\"\")\n",
    "\n",
    "        # initialize an empty trajectory for the current episode\n",
    "        trajectory = []\n",
    "        # reset the environment and get the initial state\n",
    "        state = env.reset()[0]\n",
    "        for _ in range(episode_steps):\n",
    "            # get action probabilities from the policy\n",
    "            probs = policy(tuple(state[\"agent\"][\"pos\"]))\n",
    "            # choose an action based on the policy\n",
    "            action = np.random.choice(np.arange(len(probs)), p=probs)\n",
    "            # take the action in the environment\n",
    "            next_state, reward, done, _, _ = env.step(action)\n",
    "            # append experience to the trajectory\n",
    "            trajectory.append((tuple(state[\"agent\"][\"pos\"]), action, reward))\n",
    "            if done:\n",
    "                break  # exit the loop if the agent has reached the target\n",
    "            state = next_state\n",
    "\n",
    "        G = 0  # the return\n",
    "        state_action_returns = []  # returns for each state-action pair in the episode\n",
    "        for state, action, reward in reversed(trajectory):\n",
    "            # update the return using the reward and discount factor\n",
    "            G = gamma * G + reward\n",
    "            state_action_returns.append((state, action, G))\n",
    "\n",
    "        # track visited state-action pairs to ensure first-visit MC\n",
    "        state_action_visited = set()\n",
    "\n",
    "        # update Q values for first-visit state-action pairs in the episode\n",
    "        for state, action, G in reversed(state_action_returns):\n",
    "            if (state, action) not in state_action_visited:\n",
    "                returns[(state[0], state[1], action)].append(G)\n",
    "                # update the Q value as the average of returns for this state-action pair\n",
    "                Q[state[0], state[1], action] = np.mean(returns[(state[0], state[1], action)])\n",
    "                state_action_visited.add((state, action))  # mark state-action pair as visited\n",
    "\n",
    "    return Q, policy"
   ],
   "metadata": {
    "collapsed": false,
    "ExecuteTime": {
     "end_time": "2024-02-27T22:25:30.220706Z",
     "start_time": "2024-02-27T22:25:30.164076Z"
    }
   },
   "id": "9fe267617683df57"
  },
  {
   "cell_type": "code",
   "execution_count": 15,
   "outputs": [
    {
     "name": "stderr",
     "output_type": "stream",
     "text": [
      "/Library/Frameworks/Python.framework/Versions/3.11/lib/python3.11/site-packages/gymnasium/utils/passive_env_checker.py:135: UserWarning: \u001B[33mWARN: The obs returned by the `reset()` method was expecting numpy array dtype to be int32, actual type: int64\u001B[0m\n",
      "  logger.warn(\n",
      "/Library/Frameworks/Python.framework/Versions/3.11/lib/python3.11/site-packages/gymnasium/utils/passive_env_checker.py:159: UserWarning: \u001B[33mWARN: The obs returned by the `reset()` method is not within the observation space.\u001B[0m\n",
      "  logger.warn(f\"{pre} is not within the observation space.\")\n",
      "/Library/Frameworks/Python.framework/Versions/3.11/lib/python3.11/site-packages/gymnasium/utils/passive_env_checker.py:135: UserWarning: \u001B[33mWARN: The obs returned by the `step()` method was expecting numpy array dtype to be int32, actual type: int64\u001B[0m\n",
      "  logger.warn(\n",
      "/Library/Frameworks/Python.framework/Versions/3.11/lib/python3.11/site-packages/gymnasium/utils/passive_env_checker.py:159: UserWarning: \u001B[33mWARN: The obs returned by the `step()` method is not within the observation space.\u001B[0m\n",
      "  logger.warn(f\"{pre} is not within the observation space.\")\n"
     ]
    },
    {
     "name": "stdout",
     "output_type": "stream",
     "text": [
      "Episode 1000/1000."
     ]
    }
   ],
   "source": [
    "mc_control_Q, mc_control_optimal_policy = mc_control_epsilon_greedy(env, num_episodes=1000)"
   ],
   "metadata": {
    "collapsed": false,
    "ExecuteTime": {
     "end_time": "2024-02-27T22:25:41.325855Z",
     "start_time": "2024-02-27T22:25:30.224674Z"
    }
   },
   "id": "17c0db3f59322a0c"
  },
  {
   "cell_type": "code",
   "execution_count": 16,
   "outputs": [
    {
     "data": {
      "text/plain": "<Figure size 1100x300 with 2 Axes>",
      "image/png": "[encoded data removed]"
     },
     "metadata": {},
     "output_type": "display_data"
    }
   ],
   "source": [
    "state = env.reset()[0]\n",
    "trajectory = [tuple(state['agent']['pos'])]\n",
    "for _ in range(500):\n",
    "    action = np.argmax(mc_control_optimal_policy(tuple(state['agent']['pos'])))\n",
    "    # print(state, policy(tuple(state['agent']['pos'])), action)\n",
    "    state, reward, done, _, _ = env.step(action)\n",
    "    trajectory.append(tuple(state['agent']['pos']))\n",
    "\n",
    "custom_cmap = sns.cubehelix_palette(start=.5, rot=-.5, reverse=True, as_cmap=True)\n",
    "plt.figure(figsize=(11, 3))\n",
    "sns.heatmap(env.unwrapped.MAP, cmap=custom_cmap, linewidths=0.5, linecolor='slategrey')\n",
    "\n",
    "trajectory = np.array(trajectory)\n",
    "plt.plot(trajectory[:, 1] + 0.5, trajectory[:, 0] + 0.5, color='azure', marker='.')\n",
    "plt.title('Optimal Policy Trajectory')\n",
    "plt.xticks(ticks=[*range(0, 101, 10)], labels=[*range(0, 101, 10)])\n",
    "plt.yticks(ticks=[*range(0, 31, 10)], labels=[*range(0, 31, 10)])\n",
    "\n",
    "plt.show()"
   ],
   "metadata": {
    "collapsed": false,
    "ExecuteTime": {
     "end_time": "2024-02-27T22:25:41.462611Z",
     "start_time": "2024-02-27T22:25:41.330116Z"
    }
   },
   "id": "4515645ff02da5e"
  },
  {
   "cell_type": "markdown",
   "source": [
    "10. Implement SARSA(0) and use it to learn an optimal policy for the robot."
   ],
   "metadata": {
    "collapsed": false
   },
   "id": "95d0cac913b610a6"
  },
  {
   "cell_type": "code",
   "execution_count": 60,
   "outputs": [],
   "source": [
    "def sarsa(env, num_episodes, episode_steps=500, alpha=0.1, gamma=1, epsilon=0.1, env_height=31, env_width=100):\n",
    "    Q = np.zeros((env_height, env_width, env.action_space.n))\n",
    "\n",
    "    #fFunction to choose an action using an epsilon-greedy policy\n",
    "    def policy(state, Q, epsilon):\n",
    "        if np.random.random() < epsilon:\n",
    "            return env.action_space.sample()  # explore: random action\n",
    "        else:\n",
    "            return np.argmax(Q[state])  # exploit: best action based on current Q-values\n",
    "\n",
    "    for episode in range(num_episodes):\n",
    "        state = env.reset()[0]\n",
    "        action = policy(tuple(state[\"agent\"][\"pos\"]), Q, epsilon)\n",
    "\n",
    "        for _ in range(episode_steps):\n",
    "            # take the action (a) and observe the outcome state(s') and reward (r)\n",
    "            next_state, reward, done, _, _ = env.step(action)\n",
    "\n",
    "            # choose the next action (a') using policy derived from Q (epsilon-greedy)\n",
    "            next_action = policy(tuple(next_state[\"agent\"][\"pos\"]), Q, epsilon)\n",
    "\n",
    "            # SARSA update\n",
    "            td_target = reward + gamma * Q[tuple(next_state[\"agent\"][\"pos\"])][next_action]\n",
    "            td_delta = td_target - Q[tuple(state[\"agent\"][\"pos\"])][action]\n",
    "            Q[tuple(state[\"agent\"][\"pos\"]), action] += alpha * td_delta\n",
    "\n",
    "            # update state and action\n",
    "            state = next_state\n",
    "            action = next_action\n",
    "\n",
    "    return Q, policy"
   ],
   "metadata": {
    "collapsed": false,
    "ExecuteTime": {
     "end_time": "2024-02-27T23:02:03.735919Z",
     "start_time": "2024-02-27T23:02:03.720710Z"
    }
   },
   "id": "80736fb3e573f1f1"
  },
  {
   "cell_type": "code",
   "execution_count": 61,
   "outputs": [
    {
     "name": "stderr",
     "output_type": "stream",
     "text": [
      "/var/folders/jw/pgkdvp6n17gcz8m_r8dtjdv40000gn/T/ipykernel_18705/4064594118.py:26: RuntimeWarning: overflow encountered in add\n",
      "  Q[tuple(state[\"agent\"][\"pos\"]), action] += alpha * td_delta\n",
      "/var/folders/jw/pgkdvp6n17gcz8m_r8dtjdv40000gn/T/ipykernel_18705/4064594118.py:26: RuntimeWarning: invalid value encountered in add\n",
      "  Q[tuple(state[\"agent\"][\"pos\"]), action] += alpha * td_delta\n",
      "/var/folders/jw/pgkdvp6n17gcz8m_r8dtjdv40000gn/T/ipykernel_18705/4064594118.py:25: RuntimeWarning: invalid value encountered in scalar subtract\n",
      "  td_delta = td_target - Q[tuple(state[\"agent\"][\"pos\"])][action]\n"
     ]
    }
   ],
   "source": [
    "sarsa_Q, sarsa_policy = sarsa(env, num_episodes=1000)"
   ],
   "metadata": {
    "collapsed": false,
    "ExecuteTime": {
     "end_time": "2024-02-27T23:02:10.886246Z",
     "start_time": "2024-02-27T23:02:04.478368Z"
    }
   },
   "id": "471e11c0a9c820a8"
  },
  {
   "cell_type": "code",
   "execution_count": 62,
   "outputs": [
    {
     "data": {
      "text/plain": "<Figure size 1100x300 with 2 Axes>",
      "image/png": "[encoded data removed]"
     },
     "metadata": {},
     "output_type": "display_data"
    }
   ],
   "source": [
    "state = env.reset()[0]\n",
    "trajectory = [tuple(state['agent']['pos'])]\n",
    "for _ in range(500):\n",
    "    action = np.argmax(sarsa_policy(tuple(state['agent']['pos']), sarsa_Q, epsilon=0.1))\n",
    "    # print(state, policy(tuple(state['agent']['pos'])), action)\n",
    "    state, reward, done, _, _ = env.step(action)\n",
    "    trajectory.append(tuple(state['agent']['pos']))\n",
    "\n",
    "custom_cmap = sns.cubehelix_palette(start=.5, rot=-.5, reverse=True, as_cmap=True)\n",
    "plt.figure(figsize=(11, 3))\n",
    "sns.heatmap(env.unwrapped.MAP, cmap=custom_cmap, linewidths=0.5, linecolor='slategrey')\n",
    "\n",
    "trajectory = np.array(trajectory)\n",
    "plt.plot(trajectory[:, 1] + 0.5, trajectory[:, 0] + 0.5, color='azure', marker='.')\n",
    "plt.title('Optimal Policy Trajectory')\n",
    "plt.xticks(ticks=[*range(0, 101, 10)], labels=[*range(0, 101, 10)])\n",
    "plt.yticks(ticks=[*range(0, 31, 10)], labels=[*range(0, 31, 10)])\n",
    "\n",
    "plt.show()"
   ],
   "metadata": {
    "collapsed": false,
    "ExecuteTime": {
     "end_time": "2024-02-27T23:02:12.373429Z",
     "start_time": "2024-02-27T23:02:12.229783Z"
    }
   },
   "id": "da578a693470d8ae"
  },
  {
   "cell_type": "code",
   "execution_count": null,
   "outputs": [],
   "source": [],
   "metadata": {
    "collapsed": false
   },
   "id": "d6ff3f0e2da6c335"
  }
 ],
 "metadata": {
  "kernelspec": {
   "display_name": "Python 3",
   "language": "python",
   "name": "python3"
  },
  "language_info": {
   "codemirror_mode": {
    "name": "ipython",
    "version": 2
   },
   "file_extension": ".py",
   "mimetype": "text/x-python",
   "name": "python",
   "nbconvert_exporter": "python",
   "pygments_lexer": "ipython2",
   "version": "2.7.6"
  }
 },
 "nbformat": 4,
 "nbformat_minor": 5
}
