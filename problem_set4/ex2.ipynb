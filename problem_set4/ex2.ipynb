{
 "cells": [
  {
   "cell_type": "code",
   "execution_count": 1,
   "outputs": [],
   "source": [
    "trajectories = [\n",
    "    [('uni', 'take_exam', 1)],\n",
    "    [('uni', 'take_exam', 1)],\n",
    "    [('uni', 'take_exam', 0)],\n",
    "    [('uni', 'take_exam', 1)],\n",
    "    [('uni', 'take_exam', 1)],\n",
    "    [('uni', 'take_exam', 1)],\n",
    "    [('uni', 'take_exam', 1)],\n",
    "    [('home', 'travel', 0), ('uni', 'take_exam', 0)]\n",
    "]"
   ],
   "metadata": {
    "collapsed": false,
    "ExecuteTime": {
     "end_time": "2024-03-15T13:33:46.344893Z",
     "start_time": "2024-03-15T13:33:46.314680Z"
    }
   },
   "id": "370d0b850ca62578"
  },
  {
   "cell_type": "markdown",
   "source": [
    "1. What would be $v_\\pi(uni)$ and $v_\\pi(home)$ computed using MC?"
   ],
   "metadata": {
    "collapsed": false
   },
   "id": "e4359025a1bbfdcc"
  },
  {
   "cell_type": "code",
   "execution_count": 2,
   "outputs": [],
   "source": [
    "def mc(trajectories):\n",
    "    sums = {'uni': 0, 'home': 0}\n",
    "    counts = {'uni': 0, 'home': 0}\n",
    "\n",
    "    for trajectory in trajectories:\n",
    "        for state, action, reward in trajectory:\n",
    "            sums[state] += reward\n",
    "            counts[state] += 1\n",
    "\n",
    "    values = {state: sums[state] / counts[state] if counts[state] > 0 else 0 for state in sums}\n",
    "\n",
    "    return values"
   ],
   "metadata": {
    "collapsed": false,
    "ExecuteTime": {
     "end_time": "2024-03-15T13:33:46.345382Z",
     "start_time": "2024-03-15T13:33:46.319275Z"
    }
   },
   "id": "750adc823f1e1132"
  },
  {
   "cell_type": "code",
   "execution_count": 3,
   "outputs": [
    {
     "data": {
      "text/plain": "{'uni': 0.75, 'home': 0.0}"
     },
     "execution_count": 3,
     "metadata": {},
     "output_type": "execute_result"
    }
   ],
   "source": [
    "mc(trajectories)"
   ],
   "metadata": {
    "collapsed": false,
    "ExecuteTime": {
     "end_time": "2024-03-15T13:33:46.345763Z",
     "start_time": "2024-03-15T13:33:46.322896Z"
    }
   },
   "id": "16d7e07429bff0f3"
  },
  {
   "cell_type": "markdown",
   "source": [
    "2. What would be $v_\\pi(uni)$ and $v_\\pi(home)$ computed using TD?"
   ],
   "metadata": {
    "collapsed": false
   },
   "id": "661540a2fbd9784a"
  },
  {
   "cell_type": "code",
   "execution_count": 4,
   "outputs": [],
   "source": [
    "def td(trajectories, alpha=0.1, gamma=1):\n",
    "    td_values = {'uni': 0, 'home': 0}\n",
    "\n",
    "    for trajectory in trajectories:\n",
    "        for i, (state, action, reward) in enumerate(trajectory):\n",
    "            next_state = trajectory[i + 1][0] if i + 1 < len(trajectory) else None\n",
    "            # apply TD(0) update\n",
    "            td_target = reward + (gamma * td_values[next_state] if next_state else 0)\n",
    "            # update value estimate\n",
    "            td_values[state] += alpha * (td_target - td_values[state])\n",
    "\n",
    "    return td_values"
   ],
   "metadata": {
    "collapsed": false,
    "ExecuteTime": {
     "end_time": "2024-03-15T13:33:46.345792Z",
     "start_time": "2024-03-15T13:33:46.325775Z"
    }
   },
   "id": "2760c19d969bc335"
  },
  {
   "cell_type": "code",
   "execution_count": 5,
   "outputs": [
    {
     "data": {
      "text/plain": "{'uni': 0.41048379, 'home': 0.04560931000000001}"
     },
     "execution_count": 5,
     "metadata": {},
     "output_type": "execute_result"
    }
   ],
   "source": [
    "td(trajectories)"
   ],
   "metadata": {
    "collapsed": false,
    "ExecuteTime": {
     "end_time": "2024-03-15T13:33:46.345846Z",
     "start_time": "2024-03-15T13:33:46.329258Z"
    }
   },
   "id": "13b23d74d9b7676b"
  },
  {
   "cell_type": "markdown",
   "source": [
    "11. Using the model $\\hat{\\mathcal{M}}$ that you have inferred, what would be $v_\\pi(uni)$ and $v_\\pi(home)$ computed using DP?"
   ],
   "metadata": {
    "collapsed": false
   },
   "id": "6a0fc220bd565983"
  },
  {
   "cell_type": "code",
   "execution_count": 6,
   "outputs": [
    {
     "data": {
      "text/plain": "{'uni': 0.75, 'home': 0.75}"
     },
     "execution_count": 6,
     "metadata": {},
     "output_type": "execute_result"
    }
   ],
   "source": [
    "# assuming deterministic policy that chooses 'travel' at 'home' and 'take_exam' at 'uni',\n",
    "# and that 'take_exam' ends the episode, we have the following model:\n",
    "# For 'home': the action 'travel' leads to 'uni' with reward 0 and transition probability 1\n",
    "# For 'uni': the action 'take_exam' has a reward of 0.75 and ends the episode, so it's a terminal state\n",
    "rewards = {'home': {'travel': 0}, 'uni': {'take_exam': 0.75}}\n",
    "transitions = {'home': {'travel': 'uni'}, 'uni': {'take_exam': 'uni'}}\n",
    "gamma = 1\n",
    "\n",
    "v = {'uni': 0, 'home': 0}\n",
    "\n",
    "# we know that policy is deterministic as well as transition function,\n",
    "# we can compute the value of each state directly without the need for iteration:\n",
    "v['uni'] = rewards['uni']['take_exam']  # terminal state after 'take_exam'\n",
    "v['home'] = rewards['home']['travel'] + gamma * v[transitions['home']['travel']]\n",
    "\n",
    "v"
   ],
   "metadata": {
    "collapsed": false,
    "ExecuteTime": {
     "end_time": "2024-03-15T13:33:46.345920Z",
     "start_time": "2024-03-15T13:33:46.331924Z"
    }
   },
   "id": "cf69df8b22cbb4d3"
  },
  {
   "cell_type": "code",
   "execution_count": 7,
   "outputs": [],
   "source": [
    "new_trajectories = [\n",
    "    [('uni', 'take_exam', 1)],\n",
    "    [('uni', 'take_exam', 1)],\n",
    "    [('home', 'travel', 0), ('uni', 'take_exam', 1)],\n",
    "    [('uni', 'take_exam', 1)],\n",
    "    [('uni', 'take_exam', 0)],\n",
    "    [('uni', 'take_exam', 1)],\n",
    "    [('home', 'travel', 0), ('uni', 'take_exam', 1)],\n",
    "    [('home', 'travel', 0), ('uni', 'take_exam', 0)],\n",
    "]"
   ],
   "metadata": {
    "collapsed": false,
    "ExecuteTime": {
     "end_time": "2024-03-15T13:33:46.346969Z",
     "start_time": "2024-03-15T13:33:46.334726Z"
    }
   },
   "id": "b4dac3b0de7a4385"
  },
  {
   "cell_type": "markdown",
   "source": [
    "13. Compute again $v_\\pi(uni)$ and $v_\\pi(home)$ using MC from real and simulated data."
   ],
   "metadata": {
    "collapsed": false
   },
   "id": "34cecadfc5e0b770"
  },
  {
   "cell_type": "code",
   "execution_count": 8,
   "outputs": [
    {
     "data": {
      "text/plain": "{'uni': 0.75, 'home': 0.0}"
     },
     "execution_count": 8,
     "metadata": {},
     "output_type": "execute_result"
    }
   ],
   "source": [
    "mc(trajectories + new_trajectories)"
   ],
   "metadata": {
    "collapsed": false,
    "ExecuteTime": {
     "end_time": "2024-03-15T13:33:46.347117Z",
     "start_time": "2024-03-15T13:33:46.337241Z"
    }
   },
   "id": "1fbae9326c93a970"
  },
  {
   "cell_type": "markdown",
   "source": [
    "14. Compute again $v_\\pi(uni)$ and $v_\\pi(home)$ using TD from real and simulated data."
   ],
   "metadata": {
    "collapsed": false
   },
   "id": "defa099e6343989e"
  },
  {
   "cell_type": "code",
   "execution_count": 9,
   "outputs": [
    {
     "data": {
      "text/plain": "{'uni': 0.5733326018315259, 'home': 0.19297827330335024}"
     },
     "execution_count": 9,
     "metadata": {},
     "output_type": "execute_result"
    }
   ],
   "source": [
    "td(trajectories + new_trajectories)"
   ],
   "metadata": {
    "collapsed": false,
    "ExecuteTime": {
     "end_time": "2024-03-15T13:33:46.347168Z",
     "start_time": "2024-03-15T13:33:46.339659Z"
    }
   },
   "id": "a44e56de88ac8eef"
  },
  {
   "cell_type": "code",
   "execution_count": 9,
   "outputs": [],
   "source": [],
   "metadata": {
    "collapsed": false,
    "ExecuteTime": {
     "end_time": "2024-03-15T13:33:46.347229Z",
     "start_time": "2024-03-15T13:33:46.341559Z"
    }
   },
   "id": "bfce37ad930017d8"
  }
 ],
 "metadata": {
  "kernelspec": {
   "display_name": "Python 3",
   "language": "python",
   "name": "python3"
  },
  "language_info": {
   "codemirror_mode": {
    "name": "ipython",
    "version": 2
   },
   "file_extension": ".py",
   "mimetype": "text/x-python",
   "name": "python",
   "nbconvert_exporter": "python",
   "pygments_lexer": "ipython2",
   "version": "2.7.6"
  }
 },
 "nbformat": 4,
 "nbformat_minor": 5
}
