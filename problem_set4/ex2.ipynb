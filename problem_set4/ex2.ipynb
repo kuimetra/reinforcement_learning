{
 "cells": [
  {
   "cell_type": "code",
   "execution_count": 1,
   "outputs": [],
   "source": [
    "trajectories = [\n",
    "    [('uni', 'take_exam', 1)],\n",
    "    [('uni', 'take_exam', 1)],\n",
    "    [('uni', 'take_exam', 0)],\n",
    "    [('uni', 'take_exam', 1)],\n",
    "    [('uni', 'take_exam', 1)],\n",
    "    [('uni', 'take_exam', 1)],\n",
    "    [('uni', 'take_exam', 1)],\n",
    "    [('home', 'travel', 0), ('uni', 'take_exam', 0)]\n",
    "]"
   ],
   "metadata": {
    "collapsed": false,
    "ExecuteTime": {
     "end_time": "2024-03-15T13:45:43.209591Z",
     "start_time": "2024-03-15T13:45:43.174442Z"
    }
   },
   "id": "370d0b850ca62578"
  },
  {
   "cell_type": "markdown",
   "source": [
    "1. What would be $v_\\pi(uni)$ and $v_\\pi(home)$ computed using MC?"
   ],
   "metadata": {
    "collapsed": false
   },
   "id": "e4359025a1bbfdcc"
  },
  {
   "cell_type": "code",
   "execution_count": 2,
   "outputs": [],
   "source": [
    "def mc(trajectories):\n",
    "    sums = {'uni': 0, 'home': 0}\n",
    "    counts = {'uni': 0, 'home': 0}\n",
    "\n",
    "    for trajectory in trajectories:\n",
    "        for state, action, reward in trajectory:\n",
    "            sums[state] += reward\n",
    "            counts[state] += 1\n",
    "\n",
    "    v = {state: sums[state] / counts[state] if counts[state] > 0 else 0 for state in sums}\n",
    "\n",
    "    return v"
   ],
   "metadata": {
    "collapsed": false,
    "ExecuteTime": {
     "end_time": "2024-03-15T13:45:43.209694Z",
     "start_time": "2024-03-15T13:45:43.179253Z"
    }
   },
   "id": "750adc823f1e1132"
  },
  {
   "cell_type": "code",
   "execution_count": 3,
   "outputs": [
    {
     "data": {
      "text/plain": "{'uni': 0.75, 'home': 0.0}"
     },
     "execution_count": 3,
     "metadata": {},
     "output_type": "execute_result"
    }
   ],
   "source": [
    "mc(trajectories)"
   ],
   "metadata": {
    "collapsed": false,
    "ExecuteTime": {
     "end_time": "2024-03-15T13:45:43.210125Z",
     "start_time": "2024-03-15T13:45:43.183002Z"
    }
   },
   "id": "16d7e07429bff0f3"
  },
  {
   "cell_type": "markdown",
   "source": [
    "2. What would be $v_\\pi(uni)$ and $v_\\pi(home)$ computed using TD?"
   ],
   "metadata": {
    "collapsed": false
   },
   "id": "661540a2fbd9784a"
  },
  {
   "cell_type": "code",
   "execution_count": 4,
   "outputs": [],
   "source": [
    "def td(trajectories, alpha=0.1, gamma=1):\n",
    "    v = {'uni': 0, 'home': 0}\n",
    "\n",
    "    for trajectory in trajectories:\n",
    "        for i, (state, action, reward) in enumerate(trajectory):\n",
    "            next_state = trajectory[i + 1][0] if i + 1 < len(trajectory) else None\n",
    "            # apply TD(0) update\n",
    "            td_target = reward + (gamma * v[next_state] if next_state else 0)\n",
    "            # update value estimate\n",
    "            v[state] += alpha * (td_target - v[state])\n",
    "\n",
    "    return v"
   ],
   "metadata": {
    "collapsed": false,
    "ExecuteTime": {
     "end_time": "2024-03-15T13:45:43.210155Z",
     "start_time": "2024-03-15T13:45:43.186338Z"
    }
   },
   "id": "2760c19d969bc335"
  },
  {
   "cell_type": "code",
   "execution_count": 5,
   "outputs": [
    {
     "data": {
      "text/plain": "{'uni': 0.41048379, 'home': 0.04560931000000001}"
     },
     "execution_count": 5,
     "metadata": {},
     "output_type": "execute_result"
    }
   ],
   "source": [
    "td(trajectories)"
   ],
   "metadata": {
    "collapsed": false,
    "ExecuteTime": {
     "end_time": "2024-03-15T13:45:43.210205Z",
     "start_time": "2024-03-15T13:45:43.189863Z"
    }
   },
   "id": "13b23d74d9b7676b"
  },
  {
   "cell_type": "markdown",
   "source": [
    "11. Using the model $\\hat{\\mathcal{M}}$ that you have inferred, what would be $v_\\pi(uni)$ and $v_\\pi(home)$ computed using DP?"
   ],
   "metadata": {
    "collapsed": false
   },
   "id": "6a0fc220bd565983"
  },
  {
   "cell_type": "code",
   "execution_count": 6,
   "outputs": [],
   "source": [
    "# assuming deterministic policy that chooses 'travel' at 'home' and 'take_exam' at 'uni',\n",
    "# and that 'take_exam' ends the episode, we have the following model:\n",
    "# For 'home': action 'travel' leads to 'uni' with reward 0 and transition probability 1\n",
    "# For 'uni': action 'take_exam' has a reward of 0.75, and it's a terminal state\n",
    "rewards = {'home': {'travel': 0}, 'uni': {'take_exam': 0.75}}\n",
    "transitions = {'home': {'travel': 'uni'}, 'uni': {'take_exam': 'uni'}}\n",
    "gamma = 1\n",
    "\n",
    "v_dp = {'uni': 0, 'home': 0}\n",
    "\n",
    "# we know that policy is deterministic as well as transition function,\n",
    "# we can compute the value of each state directly without the need for iteration:\n",
    "v_dp['uni'] = rewards['uni']['take_exam']  # terminal state after 'take_exam'\n",
    "v_dp['home'] = rewards['home']['travel'] + gamma * v_dp[transitions['home']['travel']]"
   ],
   "metadata": {
    "collapsed": false,
    "ExecuteTime": {
     "end_time": "2024-03-15T13:45:43.210268Z",
     "start_time": "2024-03-15T13:45:43.193271Z"
    }
   },
   "id": "fdef5513fc413f41"
  },
  {
   "cell_type": "code",
   "execution_count": 7,
   "outputs": [
    {
     "data": {
      "text/plain": "{'uni': 0.75, 'home': 0.75}"
     },
     "execution_count": 7,
     "metadata": {},
     "output_type": "execute_result"
    }
   ],
   "source": [
    "v_dp"
   ],
   "metadata": {
    "collapsed": false,
    "ExecuteTime": {
     "end_time": "2024-03-15T13:45:43.210316Z",
     "start_time": "2024-03-15T13:45:43.195388Z"
    }
   },
   "id": "cf69df8b22cbb4d3"
  },
  {
   "cell_type": "code",
   "execution_count": 8,
   "outputs": [],
   "source": [
    "new_trajectories = [\n",
    "    [('uni', 'take_exam', 1)],\n",
    "    [('uni', 'take_exam', 1)],\n",
    "    [('home', 'travel', 0), ('uni', 'take_exam', 1)],\n",
    "    [('uni', 'take_exam', 1)],\n",
    "    [('uni', 'take_exam', 0)],\n",
    "    [('uni', 'take_exam', 1)],\n",
    "    [('home', 'travel', 0), ('uni', 'take_exam', 1)],\n",
    "    [('home', 'travel', 0), ('uni', 'take_exam', 0)],\n",
    "]"
   ],
   "metadata": {
    "collapsed": false,
    "ExecuteTime": {
     "end_time": "2024-03-15T13:45:43.210351Z",
     "start_time": "2024-03-15T13:45:43.198892Z"
    }
   },
   "id": "b4dac3b0de7a4385"
  },
  {
   "cell_type": "markdown",
   "source": [
    "13. Compute again $v_\\pi(uni)$ and $v_\\pi(home)$ using MC from real and simulated data."
   ],
   "metadata": {
    "collapsed": false
   },
   "id": "34cecadfc5e0b770"
  },
  {
   "cell_type": "code",
   "execution_count": 9,
   "outputs": [
    {
     "data": {
      "text/plain": "{'uni': 0.75, 'home': 0.0}"
     },
     "execution_count": 9,
     "metadata": {},
     "output_type": "execute_result"
    }
   ],
   "source": [
    "mc(trajectories + new_trajectories)"
   ],
   "metadata": {
    "collapsed": false,
    "ExecuteTime": {
     "end_time": "2024-03-15T13:45:43.210398Z",
     "start_time": "2024-03-15T13:45:43.201181Z"
    }
   },
   "id": "1fbae9326c93a970"
  },
  {
   "cell_type": "markdown",
   "source": [
    "14. Compute again $v_\\pi(uni)$ and $v_\\pi(home)$ using TD from real and simulated data."
   ],
   "metadata": {
    "collapsed": false
   },
   "id": "defa099e6343989e"
  },
  {
   "cell_type": "code",
   "execution_count": 10,
   "outputs": [
    {
     "data": {
      "text/plain": "{'uni': 0.5733326018315259, 'home': 0.19297827330335024}"
     },
     "execution_count": 10,
     "metadata": {},
     "output_type": "execute_result"
    }
   ],
   "source": [
    "td(trajectories + new_trajectories)"
   ],
   "metadata": {
    "collapsed": false,
    "ExecuteTime": {
     "end_time": "2024-03-15T13:45:43.210550Z",
     "start_time": "2024-03-15T13:45:43.203930Z"
    }
   },
   "id": "a44e56de88ac8eef"
  },
  {
   "cell_type": "code",
   "execution_count": 10,
   "outputs": [],
   "source": [],
   "metadata": {
    "collapsed": false,
    "ExecuteTime": {
     "end_time": "2024-03-15T13:45:43.210573Z",
     "start_time": "2024-03-15T13:45:43.205767Z"
    }
   },
   "id": "bfce37ad930017d8"
  }
 ],
 "metadata": {
  "kernelspec": {
   "display_name": "Python 3",
   "language": "python",
   "name": "python3"
  },
  "language_info": {
   "codemirror_mode": {
    "name": "ipython",
    "version": 2
   },
   "file_extension": ".py",
   "mimetype": "text/x-python",
   "name": "python",
   "nbconvert_exporter": "python",
   "pygments_lexer": "ipython2",
   "version": "2.7.6"
  }
 },
 "nbformat": 4,
 "nbformat_minor": 5
}
