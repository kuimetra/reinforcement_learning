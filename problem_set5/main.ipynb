{
 "cells": [
  {
   "cell_type": "code",
   "execution_count": 32,
   "id": "14a6986808513737",
   "metadata": {
    "collapsed": true,
    "ExecuteTime": {
     "end_time": "2024-04-04T13:41:38.933615Z",
     "start_time": "2024-04-04T13:41:38.920177Z"
    }
   },
   "outputs": [],
   "source": [
    "import gymnasium\n",
    "import cookiedisaster\n",
    "import matplotlib.pyplot as plt\n",
    "import pandas as pd\n",
    "from sklearn.linear_model import SGDRegressor\n",
    "from sklearn.kernel_approximation import RBFSampler\n",
    "from sklearn.preprocessing import StandardScaler\n",
    "from sklearn.pipeline import FeatureUnion\n",
    "import numpy as np\n",
    "import random\n",
    "import torch\n",
    "import torch.nn as nn\n",
    "import torch.optim as optim\n",
    "from collections import namedtuple, deque"
   ]
  },
  {
   "cell_type": "code",
   "execution_count": 12,
   "outputs": [],
   "source": [
    "env = gymnasium.make('cookiedisaster/GridWorld-v0', render_mode=\"rgb_array\")"
   ],
   "metadata": {
    "collapsed": false,
    "ExecuteTime": {
     "end_time": "2024-04-04T13:37:51.463661Z",
     "start_time": "2024-04-04T13:37:51.458983Z"
    }
   },
   "id": "initial_id"
  },
  {
   "cell_type": "markdown",
   "source": [
    "2. Use a linear approximation to approximate $q_\\pi(a,s)$ and solve the control problem using Q-learning. \n",
    "You may want to consider the use of feature engineering to pre-process the state."
   ],
   "metadata": {
    "collapsed": false
   },
   "id": "dcd308dc24e4d836"
  },
  {
   "cell_type": "code",
   "execution_count": 13,
   "outputs": [],
   "source": [
    "def get_features(obs, info):\n",
    "    agent_pos = obs[\"agent\"][\"pos\"]\n",
    "    agent_vel = obs[\"agent\"][\"vel\"]\n",
    "    cookie_pos = obs[\"cookie\"][\"pos\"]\n",
    "    cookie_time = obs[\"cookie\"][\"time\"]\n",
    "    dist = info[\"distance\"]\n",
    "\n",
    "    return [agent_pos, agent_vel, cookie_pos, cookie_time, dist]"
   ],
   "metadata": {
    "collapsed": false,
    "ExecuteTime": {
     "end_time": "2024-04-04T13:37:51.819722Z",
     "start_time": "2024-04-04T13:37:51.814699Z"
    }
   },
   "id": "7efbbf86dab0749d"
  },
  {
   "cell_type": "code",
   "execution_count": 14,
   "outputs": [
    {
     "name": "stderr",
     "output_type": "stream",
     "text": [
      "/Library/Frameworks/Python.framework/Versions/3.11/lib/python3.11/site-packages/gymnasium/utils/passive_env_checker.py:131: UserWarning: \u001B[33mWARN: The obs returned by the `reset()` method was expecting a numpy array, actual type: <class 'dict'>\u001B[0m\n",
      "  logger.warn(\n",
      "/Library/Frameworks/Python.framework/Versions/3.11/lib/python3.11/site-packages/gymnasium/spaces/box.py:240: UserWarning: \u001B[33mWARN: Casting input x to numpy array.\u001B[0m\n",
      "  gym.logger.warn(\"Casting input x to numpy array.\")\n",
      "/Library/Frameworks/Python.framework/Versions/3.11/lib/python3.11/site-packages/gymnasium/utils/passive_env_checker.py:159: UserWarning: \u001B[33mWARN: The obs returned by the `reset()` method is not within the observation space.\u001B[0m\n",
      "  logger.warn(f\"{pre} is not within the observation space.\")\n",
      "/Library/Frameworks/Python.framework/Versions/3.11/lib/python3.11/site-packages/gymnasium/utils/passive_env_checker.py:131: UserWarning: \u001B[33mWARN: The obs returned by the `step()` method was expecting a numpy array, actual type: <class 'dict'>\u001B[0m\n",
      "  logger.warn(\n",
      "/Library/Frameworks/Python.framework/Versions/3.11/lib/python3.11/site-packages/gymnasium/utils/passive_env_checker.py:159: UserWarning: \u001B[33mWARN: The obs returned by the `step()` method is not within the observation space.\u001B[0m\n",
      "  logger.warn(f\"{pre} is not within the observation space.\")\n"
     ]
    }
   ],
   "source": [
    "observation_examples = []\n",
    "\n",
    "obs, _ = env.reset()\n",
    "for _ in range(10000):\n",
    "    action = env.action_space.sample()  # random policy\n",
    "    next_obs, _, _, _, info = env.step(action)\n",
    "    observation_examples.append(get_features(next_obs, info))\n",
    "\n",
    "observation_examples = np.array(observation_examples)"
   ],
   "metadata": {
    "collapsed": false,
    "ExecuteTime": {
     "end_time": "2024-04-04T13:37:52.231226Z",
     "start_time": "2024-04-04T13:37:52.130527Z"
    }
   },
   "id": "7fe70908550a5813"
  },
  {
   "cell_type": "code",
   "execution_count": 15,
   "outputs": [
    {
     "data": {
      "text/plain": "array([[-0.06122991,  0.07378262, -0.00032578, ..., -0.11660097,\n         0.10173981,  0.09734415],\n       [ 0.0471219 ,  0.11242382, -0.07472632, ..., -0.09568668,\n         0.05442776,  0.11285193],\n       [-0.08374667, -0.12129708,  0.14103518, ..., -0.11443613,\n         0.11165069,  0.11525479],\n       ...,\n       [ 0.06509161,  0.02718565, -0.13755508, ..., -0.14073507,\n         0.13142211, -0.06167878],\n       [-0.13647952, -0.01484096, -0.11620535, ..., -0.12516157,\n         0.11172908, -0.11556508],\n       [-0.11292165, -0.04084655, -0.02268079, ..., -0.1131534 ,\n         0.14139948, -0.13749621]])"
     },
     "execution_count": 15,
     "metadata": {},
     "output_type": "execute_result"
    }
   ],
   "source": [
    "scaler = StandardScaler()\n",
    "featurizer = FeatureUnion([\n",
    "    (\"rbf1\", RBFSampler(gamma=4.0, n_components=100)),\n",
    "    (\"rbf2\", RBFSampler(gamma=2.0, n_components=100)),\n",
    "    (\"rbf3\", RBFSampler(gamma=1.0, n_components=100)),\n",
    "    (\"rbf4\", RBFSampler(gamma=0.5, n_components=100))\n",
    "])\n",
    "\n",
    "featurizer.fit_transform(scaler.fit_transform(observation_examples))"
   ],
   "metadata": {
    "collapsed": false,
    "ExecuteTime": {
     "end_time": "2024-04-04T13:37:52.508890Z",
     "start_time": "2024-04-04T13:37:52.434326Z"
    }
   },
   "id": "a1fe05e5fa0cc75e"
  },
  {
   "cell_type": "code",
   "execution_count": 16,
   "outputs": [],
   "source": [
    "class FunctionApproximator:\n",
    "    def __init__(self):\n",
    "        self.models = []\n",
    "        # for each action there is separate SGDRegressor, which allows to \n",
    "        # estimate the Q-value for each action-state pair\n",
    "        for i in range(env.action_space.n):\n",
    "            model = SGDRegressor(learning_rate=\"constant\")\n",
    "            obs, info = env.reset()\n",
    "            # models are fitted with a default target value to set up the model\n",
    "            model.partial_fit([self.featurize_state(get_features(obs, info))], [0])\n",
    "            self.models.append(model)\n",
    "\n",
    "    def featurize_state(self, state):\n",
    "        scaled = scaler.transform([state])\n",
    "        features = featurizer.transform(scaled)\n",
    "        return features[0]\n",
    "\n",
    "    def predict(self, s):\n",
    "        state_features = self.featurize_state(s)\n",
    "        return np.array([model.predict([state_features])[0] for model in self.models])\n",
    "\n",
    "    def update(self, state, action, target):\n",
    "        features = self.featurize_state(state)\n",
    "        self.models[action].partial_fit([features], [target])"
   ],
   "metadata": {
    "collapsed": false,
    "ExecuteTime": {
     "end_time": "2024-04-04T13:37:52.813199Z",
     "start_time": "2024-04-04T13:37:52.802207Z"
    }
   },
   "id": "5bdbe7146ac0678d"
  },
  {
   "cell_type": "code",
   "execution_count": 17,
   "outputs": [],
   "source": [
    "def random_argmax(arr):\n",
    "    max_value = np.max(arr)\n",
    "    max_indices = np.where(arr == max_value)[0]\n",
    "    random_index = random.choice(max_indices)\n",
    "    return random_index"
   ],
   "metadata": {
    "collapsed": false,
    "ExecuteTime": {
     "end_time": "2024-04-04T13:37:53.263455Z",
     "start_time": "2024-04-04T13:37:53.256457Z"
    }
   },
   "id": "ff0810083cd22ac8"
  },
  {
   "cell_type": "code",
   "execution_count": 18,
   "outputs": [],
   "source": [
    "def eps_greedy_policy(func_approx, epsilon, action_space):\n",
    "    def policy_func(state):\n",
    "        prob_distribution = np.ones(action_space) * epsilon / action_space\n",
    "        q_values = func_approx.predict(state)\n",
    "        best_action = random_argmax(q_values)\n",
    "        prob_distribution[best_action] += (1 - epsilon)\n",
    "        return prob_distribution\n",
    "\n",
    "    return policy_func"
   ],
   "metadata": {
    "collapsed": false,
    "ExecuteTime": {
     "end_time": "2024-04-04T13:37:53.486427Z",
     "start_time": "2024-04-04T13:37:53.482827Z"
    }
   },
   "id": "3e018d603728a198"
  },
  {
   "cell_type": "code",
   "execution_count": 19,
   "outputs": [],
   "source": [
    "def q_learning(env, func_approx, num_episodes=100, num_steps=1000, discount_factor=1.0, epsilon_start=1.0,\n",
    "               epsilon_decay=0.99, epsilon_min=0.1):\n",
    "    episode_rewards = []\n",
    "\n",
    "    epsilon = epsilon_start\n",
    "    policy = eps_greedy_policy(func_approx, epsilon, env.action_space.n)\n",
    "\n",
    "    for episode in range(1, num_episodes):\n",
    "        total_reward = 0\n",
    "\n",
    "        obs, info = env.reset()\n",
    "        state = get_features(obs, info)\n",
    "\n",
    "        for step in range(1, num_steps):\n",
    "            action_probs = policy(state)\n",
    "            action = np.random.choice(np.arange(len(action_probs)), p=action_probs)\n",
    "\n",
    "            next_obs, reward, _, _, next_info = env.step(action)\n",
    "            next_state = get_features(next_obs, next_info)\n",
    "\n",
    "            total_reward += reward\n",
    "\n",
    "            q_values_next = func_approx.predict(next_state)\n",
    "            td_target = reward + discount_factor * np.max(q_values_next)\n",
    "\n",
    "            func_approx.update(state, action, td_target)\n",
    "\n",
    "            print(f\"\\rEpisode: {episode}/{num_episodes}   Step: {step}/{num_steps}    {round(epsilon, 3)}\", end=\"\")\n",
    "\n",
    "            state = next_state\n",
    "\n",
    "        epsilon = max(epsilon_min, epsilon_decay * epsilon)\n",
    "        policy = eps_greedy_policy(func_approx, epsilon, env.action_space.n)\n",
    "        episode_rewards.append(total_reward)\n",
    "\n",
    "    return episode_rewards"
   ],
   "metadata": {
    "collapsed": false,
    "ExecuteTime": {
     "end_time": "2024-04-04T13:37:53.950912Z",
     "start_time": "2024-04-04T13:37:53.946030Z"
    }
   },
   "id": "1f3c1b93543e1e54"
  },
  {
   "cell_type": "code",
   "execution_count": null,
   "outputs": [],
   "source": [
    "fa = FunctionApproximator()\n",
    "lin_rewards = q_learning(env, fa)"
   ],
   "metadata": {
    "collapsed": false
   },
   "id": "268cd137f3ff99f2"
  },
  {
   "cell_type": "code",
   "execution_count": null,
   "outputs": [],
   "source": [
    "plt.plot(lin_rewards, color=\"lightskyblue\", label=\"Episode Reward\")\n",
    "plt.plot(pd.Series(lin_rewards).rolling(10).mean(), color=\"royalblue\", label=\"10-Episode Rolling Mean\")\n",
    "plt.title(\"Episode Rewards over Time\")\n",
    "plt.xlabel(\"Episode\")\n",
    "plt.ylabel(\"Total Reward\")\n",
    "plt.grid(color=\"silver\", linestyle='--', linewidth=0.5)\n",
    "\n",
    "plt.legend()\n",
    "plt.tight_layout()\n",
    "plt.show()"
   ],
   "metadata": {
    "collapsed": false
   },
   "id": "8ce4fb73f5dfdd79"
  },
  {
   "cell_type": "markdown",
   "source": [
    "3. Use a neural network to approximate $q_\\pi(a, s)$ and solve the control problem using Q-learning.\n",
    "You may want to consider the use of feature engineering to pre-process the state."
   ],
   "metadata": {
    "collapsed": false
   },
   "id": "5473417db0a955f5"
  },
  {
   "cell_type": "code",
   "execution_count": 26,
   "outputs": [],
   "source": [
    "class DQN(nn.Module):\n",
    "    def __init__(self, n_observations, n_actions):\n",
    "        super(DQN, self).__init__()\n",
    "        self.layer1 = nn.Linear(n_observations, 128)\n",
    "        self.layer2 = nn.Linear(128, 128)\n",
    "        self.out = nn.Linear(128, n_actions)\n",
    "\n",
    "    def forward(self, x):\n",
    "        x = torch.relu(self.layer1(x))\n",
    "        x = torch.relu(self.layer2(x))\n",
    "        return self.out(x)"
   ],
   "metadata": {
    "collapsed": false,
    "ExecuteTime": {
     "end_time": "2024-04-04T13:40:06.213049Z",
     "start_time": "2024-04-04T13:40:06.201998Z"
    }
   },
   "id": "2f2aa811e21480d2"
  },
  {
   "cell_type": "code",
   "execution_count": 27,
   "outputs": [],
   "source": [
    "def update_target_model(target_net, policy_net):\n",
    "    target_net.load_state_dict(policy_net.state_dict())"
   ],
   "metadata": {
    "collapsed": false,
    "ExecuteTime": {
     "end_time": "2024-04-04T13:40:06.416995Z",
     "start_time": "2024-04-04T13:40:06.411927Z"
    }
   },
   "id": "da48d5c4b6fb2e49"
  },
  {
   "cell_type": "code",
   "execution_count": 28,
   "outputs": [],
   "source": [
    "def select_action(state, epsilon, policy_net):\n",
    "    if random.random() < epsilon:\n",
    "        return torch.tensor([[env.action_space.sample()]])\n",
    "    else:\n",
    "        with torch.no_grad():\n",
    "            return policy_net(state).max(1).indices.view(1, 1)"
   ],
   "metadata": {
    "collapsed": false,
    "ExecuteTime": {
     "end_time": "2024-04-04T13:40:06.643031Z",
     "start_time": "2024-04-04T13:40:06.637198Z"
    }
   },
   "id": "e8b61d76626162cd"
  },
  {
   "cell_type": "code",
   "execution_count": 29,
   "outputs": [],
   "source": [
    "def nn_q_learning(env, policy_net, num_episodes=100, num_steps=1000, discount_factor=1.0, epsilon_start=1.0,\n",
    "                  epsilon_decay=0.99, epsilon_min=0.1):\n",
    "    episode_rewards = []\n",
    "    epsilon = epsilon_start\n",
    "\n",
    "    for episode in range(num_episodes):\n",
    "        obs, info = env.reset()\n",
    "        state = get_features(obs, info)\n",
    "        state = torch.tensor(state, dtype=torch.float).unsqueeze(0)\n",
    "        total_reward = 0\n",
    "\n",
    "        for step in range(num_steps):\n",
    "            action = select_action(state, epsilon, policy_net)\n",
    "            next_obs, reward, _, _, next_info = env.step(action.item())\n",
    "            next_state = get_features(next_obs, next_info)\n",
    "            next_state = torch.tensor(next_state, dtype=torch.float).unsqueeze(0)\n",
    "\n",
    "            state_action_values = policy_net(state).gather(1, action).squeeze()\n",
    "\n",
    "            next_state_values = policy_net(next_state)\n",
    "            max_next_state_values = next_state_values.max()\n",
    "            expected_state_action_values = reward + (discount_factor * max_next_state_values)\n",
    "\n",
    "            loss = loss_fn(state_action_values, expected_state_action_values)\n",
    "            optimizer.zero_grad()\n",
    "            loss.backward()\n",
    "            optimizer.step()\n",
    "\n",
    "            print(f\"\\rEpisode: {episode}/{num_episodes}   Step: {step}/{num_steps}    {round(epsilon, 3)}\", end=\"\")\n",
    "            \n",
    "            state = next_state\n",
    "            total_reward += reward\n",
    "\n",
    "        epsilon = max(epsilon_min, epsilon_decay * epsilon)\n",
    "        episode_rewards.append(total_reward)\n",
    "\n",
    "    return episode_rewards"
   ],
   "metadata": {
    "collapsed": false,
    "ExecuteTime": {
     "end_time": "2024-04-04T13:40:06.980227Z",
     "start_time": "2024-04-04T13:40:06.973985Z"
    }
   },
   "id": "ead9208ce64327c"
  },
  {
   "cell_type": "code",
   "execution_count": 35,
   "outputs": [],
   "source": [
    "n_observations = len(get_features(*env.reset()))\n",
    "n_actions = env.action_space.n\n",
    "\n",
    "policy_net = DQN(n_observations, n_actions)\n",
    "target_net = DQN(n_observations, n_actions)\n",
    "target_net.load_state_dict(policy_net.state_dict())\n",
    "\n",
    "loss_fn = nn.MSELoss()\n",
    "optimizer = optim.AdamW(policy_net.parameters(), lr=1e-4, amsgrad=True)"
   ],
   "metadata": {
    "collapsed": false,
    "ExecuteTime": {
     "end_time": "2024-04-04T13:42:53.477500Z",
     "start_time": "2024-04-04T13:42:53.467279Z"
    }
   },
   "id": "8e787069f72a0aed"
  },
  {
   "cell_type": "code",
   "execution_count": 31,
   "outputs": [
    {
     "name": "stdout",
     "output_type": "stream",
     "text": [
      "Episode: 99/100   Step: 999/1000    0.373"
     ]
    },
    {
     "data": {
      "text/plain": "<Figure size 640x480 with 1 Axes>",
      "image/png": "[encoded data removed]"
     },
     "metadata": {},
     "output_type": "display_data"
    }
   ],
   "source": [
    "nn_rewards = nn_q_learning(env, policy_net)\n",
    "\n",
    "plt.plot(nn_rewards, color=\"lightskyblue\", label=\"Episode Reward\")\n",
    "plt.plot(pd.Series(nn_rewards).rolling(10).mean(), color=\"royalblue\", label=\"10-Episode Rolling Mean\")\n",
    "plt.title(\"Episode Rewards over Time\")\n",
    "plt.xlabel(\"Episode\")\n",
    "plt.ylabel(\"Total Reward\")\n",
    "plt.grid(color=\"silver\", linestyle='--', linewidth=0.5)\n",
    "\n",
    "plt.legend()\n",
    "plt.tight_layout()\n",
    "plt.show()"
   ],
   "metadata": {
    "collapsed": false,
    "ExecuteTime": {
     "end_time": "2024-04-04T13:41:08.117836Z",
     "start_time": "2024-04-04T13:40:08.143527Z"
    }
   },
   "id": "26eb6b63e37b2a8"
  },
  {
   "cell_type": "code",
   "execution_count": null,
   "outputs": [],
   "source": [],
   "metadata": {
    "collapsed": false
   },
   "id": "60d811999ef18f75"
  }
 ],
 "metadata": {
  "kernelspec": {
   "display_name": "Python 3",
   "language": "python",
   "name": "python3"
  },
  "language_info": {
   "codemirror_mode": {
    "name": "ipython",
    "version": 2
   },
   "file_extension": ".py",
   "mimetype": "text/x-python",
   "name": "python",
   "nbconvert_exporter": "python",
   "pygments_lexer": "ipython2",
   "version": "2.7.6"
  }
 },
 "nbformat": 4,
 "nbformat_minor": 5
}
