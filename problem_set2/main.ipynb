{
 "cells": [
  {
   "cell_type": "code",
   "execution_count": 1,
   "id": "7a98cc19dad60e06",
   "metadata": {
    "collapsed": true,
    "ExecuteTime": {
     "end_time": "2024-02-07T17:34:07.076956Z",
     "start_time": "2024-02-07T17:34:06.770272Z"
    }
   },
   "outputs": [],
   "source": [
    "from mountain import Mountain_one\n",
    "import numpy as np\n",
    "import matplotlib.pyplot as plt"
   ]
  },
  {
   "cell_type": "code",
   "execution_count": 2,
   "outputs": [],
   "source": [
    "# def policy_evaluation(policy, env, gamma=1, eps=1e-4, order='rtl'):\n",
    "#     \"\"\"\n",
    "#     Evaluate a policy given an environment and a description of it.\n",
    "#     \n",
    "#     Parameters:\n",
    "#         policy: A function that maps a state to an action.\n",
    "#         env: The environment which is an instance of the Mountain class.\n",
    "#         gamma: The discount factor.\n",
    "#         eps: We stop evaluation once our value function change is less than eps for all states.\n",
    "#         order: Order in which to update the states.\n",
    "#     \n",
    "#     Returns:\n",
    "#         State-value function.\n",
    "#     \"\"\"\n",
    "#     V = np.zeros((30, 100))\n",
    "# \n",
    "#     iter = 0\n",
    "#     while True:\n",
    "#         delta = 0\n",
    "#         states = [(i, j) for i in range(30) for j in range(100)]\n",
    "#         if order == 'rtl':\n",
    "#             states.reverse()\n",
    "# \n",
    "#         for state in states:\n",
    "#             action = policy(state)\n",
    "#             next_state = env.next_state(state, action)\n",
    "#             reward = env.get_reward(state, action)\n",
    "#             v = reward + gamma * V[next_state]\n",
    "# \n",
    "#             delta = max(delta, np.abs(v - V[state]))\n",
    "#             V[state] = v\n",
    "# \n",
    "#             iter += 1\n",
    "# \n",
    "#         if delta < eps:\n",
    "#             print(\"Number of iterations:\", iter)\n",
    "#             break\n",
    "# \n",
    "#     return V"
   ],
   "metadata": {
    "collapsed": false,
    "ExecuteTime": {
     "end_time": "2024-02-07T17:34:07.082331Z",
     "start_time": "2024-02-07T17:34:07.079326Z"
    }
   },
   "id": "b6ee7c2f5a69aecf"
  },
  {
   "cell_type": "code",
   "execution_count": 3,
   "outputs": [],
   "source": [
    "def policy_evaluation(policy, env, gamma=1, eps=1e-4, order='rtl'):\n",
    "    \"\"\"\n",
    "    Evaluate a policy given an environment and a description of it.\n",
    "    \n",
    "    Parameters:\n",
    "        policy: A function that maps a state to an action.\n",
    "        env: The environment which is an instance of the Mountain class.\n",
    "        gamma: The discount factor.\n",
    "        eps: We stop evaluation once our value function change is less than eps for all states.\n",
    "        order: Order in which to update the states.\n",
    "    \n",
    "    Returns:\n",
    "        State-value function.\n",
    "    \"\"\"\n",
    "    \n",
    "    V = np.zeros((30, 100))\n",
    "\n",
    "    iter = 0\n",
    "    while True:\n",
    "        delta = 0\n",
    "        states = [(i, j) for i in range(30) for j in range(100)]\n",
    "        if order == 'rtl':\n",
    "            states.reverse()\n",
    "\n",
    "        for state in states:\n",
    "            v = 0\n",
    "\n",
    "            action_probabilities = policy(state)\n",
    "\n",
    "            for action, prob in action_probabilities.items():\n",
    "                next_state = env.next_state(state, action)\n",
    "                reward = env.get_reward(state, action)\n",
    "                v += prob * (reward + gamma * V[next_state])\n",
    "\n",
    "            delta = max(delta, np.abs(v - V[state]))\n",
    "            V[state] = v\n",
    "\n",
    "            iter += 1\n",
    "\n",
    "        if delta < eps:\n",
    "            print(\"Number of iterations:\", iter)\n",
    "            break\n",
    "\n",
    "    return V"
   ],
   "metadata": {
    "collapsed": false,
    "ExecuteTime": {
     "end_time": "2024-02-07T17:34:07.085888Z",
     "start_time": "2024-02-07T17:34:07.083373Z"
    }
   },
   "id": "851e8aece3424f2f"
  },
  {
   "cell_type": "code",
   "execution_count": 4,
   "outputs": [],
   "source": [
    "def policy_random(state):\n",
    "    actions = [\"upforward\", \"forward\", \"downforward\"]\n",
    "    action_probabilities = {action: 1 / 3 for action in actions}\n",
    "    return action_probabilities"
   ],
   "metadata": {
    "collapsed": false,
    "ExecuteTime": {
     "end_time": "2024-02-07T17:34:07.089312Z",
     "start_time": "2024-02-07T17:34:07.086057Z"
    }
   },
   "id": "ce4410a5b3dbb82e"
  },
  {
   "cell_type": "markdown",
   "source": [
    "2. Consider the policy $\\pi_{str}$ of heading straight ahead. Use policy evaluation to compute $v_{\\pi_{str}}$."
   ],
   "metadata": {
    "collapsed": false
   },
   "id": "ec869bbeb656f61d"
  },
  {
   "cell_type": "code",
   "execution_count": 5,
   "outputs": [],
   "source": [
    "def policy_straight(state):\n",
    "    return {\"forward\": 1.0}"
   ],
   "metadata": {
    "collapsed": false,
    "ExecuteTime": {
     "end_time": "2024-02-07T17:34:07.093315Z",
     "start_time": "2024-02-07T17:34:07.089446Z"
    }
   },
   "id": "b52ab056a365236c"
  },
  {
   "cell_type": "markdown",
   "source": [
    "3. (*) Run your policy evaluation ordering the states from left to right (from the top of the mountain to the bottom) \n",
    "or from right to left (from the bottom of the mountain to the top). How do the results differ?"
   ],
   "metadata": {
    "collapsed": false
   },
   "id": "c034cf790f5b6148"
  },
  {
   "cell_type": "code",
   "execution_count": 6,
   "outputs": [
    {
     "name": "stdout",
     "output_type": "stream",
     "text": [
      "Number of iterations: 297000\n"
     ]
    }
   ],
   "source": [
    "env = Mountain_one()\n",
    "v_straight_left_to_right = policy_evaluation(policy_straight, env, order='ltr')"
   ],
   "metadata": {
    "collapsed": false,
    "ExecuteTime": {
     "end_time": "2024-02-07T17:34:07.618028Z",
     "start_time": "2024-02-07T17:34:07.092358Z"
    }
   },
   "id": "c28214cb7fa14eec"
  },
  {
   "cell_type": "code",
   "execution_count": 7,
   "outputs": [
    {
     "name": "stdout",
     "output_type": "stream",
     "text": [
      "Number of iterations: 6000\n"
     ]
    }
   ],
   "source": [
    "v_straight_right_to_left = policy_evaluation(policy_straight, env, order='rtl')"
   ],
   "metadata": {
    "collapsed": false,
    "ExecuteTime": {
     "end_time": "2024-02-07T17:34:07.630133Z",
     "start_time": "2024-02-07T17:34:07.625846Z"
    }
   },
   "id": "1257cd26043df7dd"
  },
  {
   "cell_type": "markdown",
   "source": [
    "4. Plot the trajectory followed by the robot according to $\\pi_{str}$ from $s_0$ = (15, 0).\n",
    "5. Plot the trajectory followed by the robot according to $\\pi_{str}$ from $s_0$ = (3, 0)."
   ],
   "metadata": {
    "collapsed": false
   },
   "id": "151f5ecf585971d9"
  },
  {
   "cell_type": "code",
   "execution_count": 8,
   "outputs": [],
   "source": [
    "def plot_trajectory(env, policy, initial_state):\n",
    "    mountain_map = env.get_map()\n",
    "\n",
    "    fig, ax = plt.subplots()\n",
    "    ax.imshow(mountain_map, cmap='Greys_r', origin='upper')\n",
    "    ax.set_title('Mountain Terrain')\n",
    "    ax.set_xticks(np.arange(0, 101, 20))\n",
    "    ax.set_yticks(np.arange(0, 31, 10))\n",
    "    ax.grid(True)\n",
    "\n",
    "    current_state = initial_state\n",
    "    trajectory = [current_state]\n",
    "\n",
    "    while current_state[1] < 99: \n",
    "        action_probabilities = policy(current_state)\n",
    "        action = max(action_probabilities, key=action_probabilities.get)\n",
    "        next_state = env.next_state(current_state, action)\n",
    "        trajectory.append(next_state)\n",
    "        current_state = next_state\n",
    "\n",
    "    x, y = zip(*[(state[1], state[0]) for state in trajectory])\n",
    "\n",
    "    ax.plot(x, y, marker='.', linestyle='-', color='slateblue')\n",
    "    plt.show()"
   ],
   "metadata": {
    "collapsed": false,
    "ExecuteTime": {
     "end_time": "2024-02-07T17:34:07.633431Z",
     "start_time": "2024-02-07T17:34:07.629187Z"
    }
   },
   "id": "4cc809fc6347ffef"
  },
  {
   "cell_type": "code",
   "execution_count": 9,
   "outputs": [
    {
     "data": {
      "text/plain": "<Figure size 640x480 with 1 Axes>",
      "image/png": "[encoded data removed]"
     },
     "metadata": {},
     "output_type": "display_data"
    }
   ],
   "source": [
    "plot_trajectory(env, policy_straight, (15, 0))"
   ],
   "metadata": {
    "collapsed": false,
    "ExecuteTime": {
     "end_time": "2024-02-07T17:34:07.682253Z",
     "start_time": "2024-02-07T17:34:07.631712Z"
    }
   },
   "id": "5dab7bb7f3b7853c"
  },
  {
   "cell_type": "code",
   "execution_count": 10,
   "outputs": [
    {
     "data": {
      "text/plain": "<Figure size 640x480 with 1 Axes>",
      "image/png": "[encoded data removed]"
     },
     "metadata": {},
     "output_type": "display_data"
    }
   ],
   "source": [
    "plot_trajectory(env, policy_straight, (3, 0))"
   ],
   "metadata": {
    "collapsed": false,
    "ExecuteTime": {
     "end_time": "2024-02-07T17:34:07.723866Z",
     "start_time": "2024-02-07T17:34:07.680751Z"
    }
   },
   "id": "3ec602090a3f3367"
  },
  {
   "cell_type": "markdown",
   "source": [
    "6. If the agent were to follow the policy $\\pi_{str}$, which starting position in the first column would be optimal?"
   ],
   "metadata": {
    "collapsed": false
   },
   "id": "7f74e2966de7b691"
  },
  {
   "cell_type": "code",
   "execution_count": 11,
   "outputs": [
    {
     "data": {
      "text/plain": "7"
     },
     "execution_count": 11,
     "metadata": {},
     "output_type": "execute_result"
    }
   ],
   "source": [
    "v_straight_left_to_right[:, 0].argmax()"
   ],
   "metadata": {
    "collapsed": false,
    "ExecuteTime": {
     "end_time": "2024-02-07T17:34:07.724616Z",
     "start_time": "2024-02-07T17:34:07.722504Z"
    }
   },
   "id": "bce81c1d886d81fd"
  },
  {
   "cell_type": "markdown",
   "source": [
    "8. Consider now a random policy $\\pi_{rnd}$ where each action is taken with uniform probability. Use policy evaluation to compute $v_{\\pi_{str}}$."
   ],
   "metadata": {
    "collapsed": false
   },
   "id": "3c8e8500782435b2"
  },
  {
   "cell_type": "code",
   "execution_count": 11,
   "outputs": [],
   "source": [],
   "metadata": {
    "collapsed": false,
    "ExecuteTime": {
     "end_time": "2024-02-07T17:34:07.727417Z",
     "start_time": "2024-02-07T17:34:07.725118Z"
    }
   },
   "id": "67ce9f7cd6e5db60"
  }
 ],
 "metadata": {
  "kernelspec": {
   "display_name": "Python 3",
   "language": "python",
   "name": "python3"
  },
  "language_info": {
   "codemirror_mode": {
    "name": "ipython",
    "version": 2
   },
   "file_extension": ".py",
   "mimetype": "text/x-python",
   "name": "python",
   "nbconvert_exporter": "python",
   "pygments_lexer": "ipython2",
   "version": "2.7.6"
  }
 },
 "nbformat": 4,
 "nbformat_minor": 5
}
